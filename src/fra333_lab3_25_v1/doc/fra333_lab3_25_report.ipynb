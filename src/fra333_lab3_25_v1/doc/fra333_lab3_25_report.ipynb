{
 "cells": [
  {
   "cell_type": "markdown",
   "metadata": {},
   "source": [
    "<font color='orange' size=8><B>**LAB Assignment 3: Robot Simulation**</B></font>\n",
    "\n",
    "<font size=5><B>Objective :</B></font>\n",
    "\n",
    "1. ศึกษาการจำลองการเคลื่อนที่หุ่นยนต์ผ่านโปรแกรม Simulation (Gazebo)\n",
    "2. ศึกษาการเชื่อมต่อ Sensor กับ ROS2\n",
    "3. ศึกษาการสร้าง Algorithm สำหรับควบคุมตำแหน่งปลายมือของหุ่นยนต์\n",
    "\n",
    "\n",
    "------------------------------------------------------------------------------------------------------------------------------"
   ]
  },
  {
   "cell_type": "markdown",
   "metadata": {},
   "source": [
    "<center><img src=\"ros2_control.jpg\" width=\"800\"/></center>"
   ]
  },
  {
   "cell_type": "markdown",
   "metadata": {},
   "source": [
    "นักศึกษาจะต้องออกแบบระบบควบคุมหุ่นยนต์ด้วย ROS2 โดยที่จะต้องเชื่อมต่อระหว่าง IMU กับ ROS2 ด้วย Lib \n",
    "XICRO จากนั้นจึงนำค่าที่ได้มาเป็นสัญญาณขาเข้าของ Algorithm X เพื่อควบคุมตำแหน่งปลายมือของหุ่นยนต์ใน\n",
    "ระบบ Simulation มีขั้นตอนการทำและคะแนนดังต่อไปนี้ ( คะแนน 120/100 )\n",
    "\n",
    "1. การเชื่อมต่อ IMU เข้ากับ Library XICRO (20%)\n",
    "2. ทำโหนด Calibration ของ IMU (20%)     [ เป็นการคำนวณและเพิ่มค่าของ cov เข้าไปยัง message ]\n",
    "3. Algorithm X สำหรับการสั่งงานหุ่นยนต์ (30%)\n",
    "4. การนำไฟล์ URDF/XACRO ไปยังโปรแกรม GAZEBO (20%)\n",
    "5. การติดตั้ง ROS2_CONTROLLER ไปยัง GAZEBO (20%)\n",
    "6. การออกแบบโครงสร้าง Package ใน ROS2 (10%)"
   ]
  },
  {
   "cell_type": "markdown",
   "metadata": {},
   "source": [
    "<font color='orange' size=6><B>ภาพรวมของหุ่นยนต์(Cocoa)ที่ได้ออกแบบมา</B></font>"
   ]
  },
  {
   "cell_type": "markdown",
   "metadata": {},
   "source": [
    "หุ่นยนต์ COCOA V ถูกออกแบบเป็นหุ่นยนต์ประเภท Articulated Robot ที่มี 3 Degree of Freedom โดยโปรแกรม Solidworks 2021 \n",
    "\n",
    "<center><img src=\"img/CocoaV_01.png\" width=\"600\"/></center>\n",
    "<center><img src=\"img/CocoaV_02.png\" width=\"600\"/></center>\n",
    "<center><img src=\"img/CocoaV_03.png\" width=\"600\"/></center>"
   ]
  },
  {
   "cell_type": "markdown",
   "metadata": {},
   "source": [
    "โดยเราออกแบบให้หุ่นยนต์ของพวกเราประกอบด้วย ข้อต่อแบบ Revolute ทั้งหมด 3 ข้อต่อและข้อต่อแบบ Fixed 2 ข้อต่อโดยจะสามารถจัดเรียงได้ดังนี้\n",
    "        <ul>\n",
    "        <li>world</li>\n",
    "          <li>    \"world_joint\" type=\"fixed\"</li>\n",
    "        <li>link_0</li>\n",
    "         <li>    \"joint_rev_0_1\" type=\"revolute\"</li>\n",
    "        <li>link_1</li>\n",
    "         <li>    \"joint_rev_1_2\" type=\"revolute\"</li>\n",
    "        <li>link_2</li>\n",
    "          <li>    \"joint_rev_2_3\" type=\"revolute\"</li>\n",
    "        <li>link_3</li>\n",
    "         <li>    \"joint_eff\" type=\"fixed\"</li>\n",
    "        <li>end_effector</li>     \n",
    "        </ul>  \n",
    "        "
   ]
  },
  {
   "cell_type": "markdown",
   "metadata": {},
   "source": [
    "<font color='white' size=3><B>การกำหนด coordinate system และ Center of Mass ให้แต่ละ link</B></font>\n",
    "<center><img src=\"img/Coordinate_System_00.png\" width=\"600\"/></center>\n",
    "<center><font color='Yellow' size=3><B>ภาพรวมของตำแหน่งของ Coordinate System และ Center of Mass</B></font></center>\n",
    "<center><img src=\"img/Coordinate_System_01.png\" width=\"600\"/></center>\n",
    "<center><font color='Yellow' size=3><B>Link_0</B></font></center>\n",
    "<center><img src=\"img/Coordinate_System_02.png\" width=\"600\"/></center>\n",
    "<center><font color='Yellow' size=3><B>Link_1</B></font></center>\n",
    "<center><img src=\"img/Coordinate_System_03.png\" width=\"600\"/></center>\n",
    "<center><font color='Yellow' size=3><B>Link_2</B></font></center>\n",
    "<center><img src=\"img/Coordinate_System_04.png\" width=\"600\"/></center>\n",
    "<center><font color='Yellow' size=3><B>Link_3</B></font></center>\n",
    "<center><img src=\"img/Coordinate_System_05.png\" width=\"600\"/></center>\n",
    "<center><font color='Yellow' size=3><B>End_effector</B></font></center>"
   ]
  },
  {
   "cell_type": "markdown",
   "metadata": {},
   "source": [
    "<font color='white' size=3><B>การทำ Mass Property (kilograms * square meters)</B></font>\n",
    "\n",
    "<center><img src=\"img/mass_01.png\" width=\"600\"/></center>\n",
    "<center><font color='Yellow' size=3><B>Link_0</B></font></center>\n",
    "<center><img src=\"img/mass_02.png\" width=\"600\"/></center>\n",
    "<center><font color='Yellow' size=3><B>Link_1</B></font></center>\n",
    "<center><img src=\"img/mass_03.png\" width=\"600\"/></center>\n",
    "<center><font color='Yellow' size=3><B>Link_2</B></font></center>\n",
    "<center><img src=\"img/mass_04.png\" width=\"600\"/></center>\n",
    "<center><font color='Yellow' size=3><B>Link_3</B></font></center>\n",
    "<center><img src=\"img/mass_05.png\" width=\"600\"/></center>\n",
    "<center><font color='Yellow' size=3><B>End_effector</B></font></center>"
   ]
  },
  {
   "cell_type": "markdown",
   "metadata": {},
   "source": [
    "<font color='orange' size=6><B>การออกแบบโครงสร้าง Package ใน ROS2</B></font>"
   ]
  },
  {
   "cell_type": "markdown",
   "metadata": {},
   "source": [
    "<center><img src=\"img/stRos1.png\" /></center>\n",
    "\n",
    "จะมีการออกแบบโครงสร้าง Package ใน ROS2 โดยการแบ่ง Package ออกเป็น 3 ส่วน ได้แก่\n",
    "1. cocoav_description : Package ที่เก็บ ไฟล์ URDF/XACRO,meshes ของหุ่นยนต์, ไฟล์ config สำหรับการตั้งค่า Controller ใน yaml รวมถึง และไฟล์ launch สำหรับการเรียกใช้งาน โดยหากเรียกใช้งานไฟล์ launch ใน package นี้ จะไม่มีการควบคุมหุ่นยนต์แต่จะเป้นแค่การแสดงหุ่นยนต์ใน GAZEBO\n",
    "\n",
    "2. cocoav_interfaces : Package ที่ใช้ในการเก็บ msg และ srv ที่จะใช้ในการควบคุมหุ่นยนต์\n",
    "\n",
    "3. cocoav_kinematics : Package ที่ใช้ในการเก็บโค้ดของ Algorithm X และการเชื่อมต่อ IMU (Run Xicro node แยกต่างหาก) และการคำนวณค่าต่างๆ ที่จำเป็นต่อการควบคุมหุ่นยนต์ โดยหากเรียกใช้งานไฟล์ launch ใน package นี้ จะมีการควบคุมหุ่นยนต์เพิ่มเติมจาก cocoav_description"
   ]
  },
  {
   "cell_type": "markdown",
   "metadata": {},
   "source": [
    "<font color='orange' size=6><B>การนำไฟล์ URDF/XACRO ไปยังโปรแกรม GAZEBO</B></font>"
   ]
  },
  {
   "cell_type": "markdown",
   "metadata": {},
   "source": [
    "<font color='white' size=3><B>การเขียนไฟล์ XACRO และ URDF.XACRO</B></font><br>\n",
    "\n",
    "<font color='white' size=3>เลือกใช้ XACRO เนื่องจากสามารถเขียน XML ได้สั้นและอ่านง่าย การเขียนไฟล์ XACRO มีทั้งหมด 3 ไฟล์ ประกอบไปด้วย  </font>\n",
    "\n",
    "1.cocoav_gazebo.xacro\n",
    "\n",
    "2.cocoav_include.xacro\n",
    "\n",
    "3.cocoav_robot.urdf.xacro\n",
    "\n",
    "<font color='orange' size=5>cocoav_gazebo.xacro</font>\n",
    "<ul>\n",
    "<li>ในส่วนของหัวข้อ \"ros2_control\" จะเป็นการกำหนด Parameter ให้กับ joint แต่ละอัน</li>\n",
    "<li>กำหนด parameter ให้กับ 3 command_interface ได้แก่ position, velocity, effort</li>\n",
    "</ul>  \n",
    "\n",
    "<img src=\"img/Gazebo_01.png\" width=\"\"/>\n",
    "\n",
    "<ul>\n",
    "<li>ในส่วนของหัวข้อ \"gazebo reference\" จะเป็นการกำหนด Parameter และ สีที่จะแสดงผลใน Gazebo ตามแต่ละ link</li>\n",
    "</ul>  \n",
    "\n",
    "<img src=\"img/Gazebo_02.png\" width=\"\"/>\n",
    "\n",
    "<font color='orange' size=5>cocoav_include.xacro</font>\n",
    "<ul>\n",
    "<li>ไฟล์นี้จะเน้นไปที่การประกาศตัวแปรที่จะดึงไปใช้ใน cocoav_robot.urdf.xacro</li>\n",
    "<li>โดยเราได้ทำการประกาศตัวแปรในส่วนของ Center of Mass</li>\n",
    "</ul>  \n",
    "\n",
    "<img src=\"img/cocoav_include_01.png\" width=\"\"/>\n",
    "\n",
    "\n",
    "<font color='orange' size=5>cocoav_robot.urdf.xacro</font>\n",
    "<ul>\n",
    "<li>เป็นการกำหนด Parameter ให้กับ 3 หัวข้อ ที่จะนำไปใช้ในโปแกรมจำลอง ได้แก่ </li>\n",
    "\n",
    "\"visual\" แสดงผลภาพใน Gazebo\n",
    "\n",
    "\"collision\" กำหนดการชนให้กับ visual\n",
    "\n",
    "\"inertial\" การกำหนดค่าความเฉื่อย\n",
    "</ul>  \n",
    "\n",
    "<img src=\"img/cocoav_robot_01.png\" width=\"\"/>\n",
    "\n",
    "<ul>\n",
    "<li>การกำหนด Joint</li>\n",
    "\n",
    "\"Joint Name\" กำหนดชื่อของ Joint\n",
    "\n",
    "\"parent\" กำหนด link แม่\n",
    "\n",
    "\"child\" กำหนด link ลูก\n",
    "\n",
    "\"origin\" กำหนดจุก origin\n",
    "\n",
    "\"axis\" กำหนดแกนหมุน\n",
    "\n",
    "\"limit\" กำหนด limit ของ joint\n",
    "\n",
    "</ul>  \n",
    "<img src=\"img/cocoav_robot_02.png\" width=\"\"/>\n"
   ]
  },
  {
   "cell_type": "markdown",
   "metadata": {},
   "source": [
    "<font color='white' size=3><B>ผลลัพธ์ดมื่อนำไปรันใน Gazebo</B></font><br>\n",
    "\n",
    "หลังจากเขียนไฟล์ทั้ง 3 ไฟล์เรียบร้อยแล้วนำไปทดสอบด้วยการรันใน Gazebo ได้ผลลัพธ์ตรงตามค่าที่หามา\n",
    "\n",
    "<center><img src=\"img/Gazebo_Run_01.png\" width=\"600\"/></center>\n",
    "<center><font color='Yellow' size=3><B>ภาพแสดงตำแหน่งของ Collision กับ mesh</B></font></center>\n",
    "\n",
    "<center><img src=\"img/Gazebo_Run_02.png\" width=\"600\"/></center>\n",
    "<center><font color='Yellow' size=3><B>ภาพแสดงตำแหน่งของ Centre of Mass กับ mesh</B></font></center>\n",
    "\n",
    "<center><img src=\"img/Gazebo_Run_03.png\" width=\"600\"/></center>\n",
    "<center><font color='Yellow' size=3><B>ภาพแสดงตำแหน่งของ Inertial กับ mesh</B></font></center>\n"
   ]
  },
  {
   "cell_type": "markdown",
   "metadata": {},
   "source": [
    "<font color='orange' size=6><B>การติดตั้ง ROS2_CONTROLLER ไปยัง GAZEBO</B></font>"
   ]
  },
  {
   "cell_type": "markdown",
   "metadata": {},
   "source": [
    "1. ทำการเพิ่ม Gazebo ใน launch file พร้อมกับ Node ที่ใช้ในการ spawn หุ่นยนต์ โดยจะมีการเพิ่ม joint_state_broadcaster_spawner Node ที่ใช้ในการ Publish /dynamic_joint_states, /joint_states ที่จำเป็นต่อการควบคุมหุ่นยนต์ และ การเพิ่ม robot_controller_spawner Node ที่ใช้ในการเรียกใช้งาน Controller ที่ต้องการใช้งาน\n",
    "\n",
    "<center><img src=\"img/rc2ros1.png\"/></center>"
   ]
  },
  {
   "cell_type": "markdown",
   "metadata": {},
   "source": [
    "2. ตั้งค่า Controller Maneger ที่จะใช้ใน GAZEBO โดยการใช้ไฟล์ cocoa_controllers.yaml โดยจะเลือกใช้ Controller เป็น joint_trajectory_position_controller ซึ่งเป็น Controller ที่ใช้ในการควบคุมหุ่นยนต์ที่เป็น JointTrajectory โดยจะรับค่า JointConfiguration เพื่อใช้ในการคำนวณ Trajectory และ การควบคุมหุ่นยนต์\n",
    "\n",
    "<center><img src=\"img/rc2ros2.png\"/></center>"
   ]
  },
  {
   "cell_type": "markdown",
   "metadata": {},
   "source": [
    "3.กำหนด command_interface และ state_interface ให้กับแต่ละ Joint\n",
    "\n",
    "<center><img src=\"img/rc2ros3.png\"/></center>"
   ]
  },
  {
   "cell_type": "markdown",
   "metadata": {},
   "source": [
    "4. เพิ่ม Controller Maneger Plugin เข้าใน Gazebo\n",
    "\n",
    "<center><img src=\"img/rc2ros4.png\"/></center>"
   ]
  },
  {
   "cell_type": "markdown",
   "metadata": {},
   "source": [
    "<font color='orange' size=6><B>การเชื่อมต่อ IMU เข้ากับ Library XICRO</B></font>"
   ]
  },
  {
   "cell_type": "markdown",
   "metadata": {},
   "source": [
    "1. กำหนด Custom msg ที่จะใช้ในการส่งค่า IMU จาก Arudino ไปยัง ROS โดยจะมีการกำหนด 7 ค่า คือ\n",
    "    - int64 time_ms : เวลา ณ ขณะที่อ่านค่า IMU (ใช้สำหรับ complementary filter ในการคำนวณค่า oreintation)(yaw ไม่สามารถประมาณให้ถูกต้องได้จึงไม่ได้ใช้ Parameter นี้)\n",
    "    - float32[3] angular_velocity \n",
    "    - float32[3] linear_acceleration\n",
    "\n",
    "<center><img src=\"img/imu2ros1.png\"/></center>"
   ]
  },
  {
   "cell_type": "markdown",
   "metadata": {},
   "source": [
    "2. ตั้งค่า Config ต่าง ๆ ใน setup_xicro.yaml โดยกำหนดชื่อ Topic เป็น /cocoav_imu_arduino\n",
    "\n",
    "<center><img src=\"img/imu2ros2.png\"/></center>"
   ]
  },
  {
   "cell_type": "markdown",
   "metadata": {},
   "source": [
    "3.เขียนไฟล์ .ino ที่ใช้ในการส่งค่า IMU จาก Arduino ไปยัง ROS โดยจะมีการส่งค่า IMU ที่อ่านได้จาก Arduino ไปยัง ROS โดยใช้ Serial และ การส่งค่า IMU จะมีการแปลงค่าจากค่าเดิมให้เป็นค่าใหม่ โดยจะมีการแปลงค่า ดังนี้\n",
    "- ไม่แปลงค่า time_ms มีค่าเป็น ms\n",
    "- ไม่แปลงค่า angular_velocity โดยมีค่าเป็น deg/s\n",
    "- แปลงค่า linear_acceleration เป็น m/s^2\n",
    "\n",
    "โดยจะมีการปรับ Hz ของการ Publish ค่า IMU ให้เป็น 100 Hz (TCB0.CCMP = 2500)\n",
    "\n",
    "<center><img src=\"img/imu2ros3.png\"/></center>"
   ]
  },
  {
   "cell_type": "markdown",
   "metadata": {},
   "source": [
    "<font color='orange' size=6><B>Algorithm X สำหรับการสั่งงานหุ่นยนต์</B></font>"
   ]
  },
  {
   "cell_type": "markdown",
   "metadata": {},
   "source": [
    "1. สร้าง Node ใน ROS ที่จะใช้ในการสั่งงานหุ่นยนต์ โดยจะมีการสั่งงานหุ่นยนต์ โดยจะ\n",
    "    - มีการตั้ง Delay ในการสั่งงานหุ่นยนต์ โดยจะตั้งไว้ที่ 5 วินาทีสำหรับการรอเปิด Gazebo\n",
    "    - กำหนด rate ในการส่ง joint_config ให้เป็น 10 Hz และ timer\n",
    "    - สร้าง Pubilsher Node สำหรับส่งค่า joint_config ไปยัง Controller ใน Gazebo\n",
    "    - สร้าง Constant สำหรับการคำนวณ inverse/forward kinematics position ของหุ่นยนต์ และ Home\n",
    "    - สร้าง Subscriber Node สำหรับรับค่า IMU จาก Arduino ผ่าน Calibrator Node ใน msg /cocoav_imu_calibrated\n",
    "\n",
    "<center><img src=\"img/AlgX1.png\"/></center>"
   ]
  },
  {
   "cell_type": "markdown",
   "metadata": {},
   "source": [
    "2. กำหนดการแปลงพิกัดในการสั่งงานหุ่นยนต์ โดยจะมีการแปลงพิกัด ดังนี้\n",
    "\n",
    "    <center><img src=\"img/AlgX2_1.png\"/></center>\n",
    "\n",
    "    - นำค่าตำแหน่งปัจจุบันของหุ่นยนต์มาคำนวณแปลงเป็น Cylinder Coordinate โดยจะมีการคำนวณแปลงดังนี้\n",
    "        - คำนวณค่า r โดยใช้ค่ารากที่ 2 ของ x และ y ของตำแหน่งปัจจุบันของหุ่นยนต์\n",
    "        - คำนวณค่า theta โดยใช้ค่า arctan2 ของ y และ x ของตำแหน่งปัจจุบันของหุ่นยนต์\n",
    "        - คำนวณค่า z โดยใช้ค่า z ของตำแหน่งปัจจุบันของหุ่นยนต์\n",
    "\n",
    "\n",
    "<center><img src=\"img/AlgX2_2.png\"/></center>"
   ]
  },
  {
   "cell_type": "markdown",
   "metadata": {},
   "source": [
    "3. กำหนด Algorithm สำหรับควบคุมหุ่นยนต์ดังนี้\n",
    "    - รับค่าจาก IMU โดยจะใช้เพียงค่า linear_acceleration โดยจะมีการคำนวณดังนี้\n",
    "        - ทำการแปลง linear_acceleration จาก Float ให้การเป็น int โดยใช้ int()\n",
    "        - กำหนดค่าจะนำมาเพิ่มกับ Cylinder Coordinate ที่ 0.01 (dimension ในส่วนต่าง ๆ ของหุ่นยนต์ เช่น ความยาว link จะถูกกำหนดในหน่วย mm จึงจะใช้ค่าที่ 0.01)\n",
    "    - แปลงตำแหน่งของหุ่นยนต์จาก Cartesian Coordinate ให้เป็น Cylinder Coordinate \n",
    "    - นำค่าตำแหน่งปัจจุบันของหุ่นยนต์ใน Cylinder Coordinate มาบวกหรือลบเพิ่มตาม Condition ของการควบคุมหุ่นยนต์\n",
    "        - r จะมีการบวกหรือลบขึ้นกับค่า linear_acceleration ในแกน x\n",
    "        - theta จะมีการบวกหรือลบขึ้นกับค่า linear_acceleration ในแกน y (เพิ่ม scale เล็กน้อยเนื่องจากหมุนช้าเกินไป)\n",
    "        - z จะมีการบวกหรือลบขึ้นกับค่า linear_acceleration ในแกน z\n",
    "    - แปลงตำแหน่งของหุ่นยนต์จาก Cylinder Coordinate ให้เป็น Cartesian Coordinate ดังเดิม\n",
    "    - ทำการคำนวณ inverse kinematics position ของหุ่นยนต์ เพื่อหา joint_config ที่จะใช้ในการส่งให้ joint_trajectory_position_controller ซึ่งเป็น Controller ที่ใช้ในการควบคุมหุ่นยนต์ และทำการ Update ตำแหน่งของหุ่นยนต์ใหม่\n",
    "        - หากไม่สามารถคำนวณ inverse kinematics ได้ จะทำการส่งค่า joint_config ที่เป็นค่าเดิมก่อนการคำนวณและไม่ทำการ Update ตำแหน่งของหุ่นยนต์\n",
    "\n",
    "<center><img src=\"img/AlgX2_3.png\"/></center>"
   ]
  },
  {
   "cell_type": "markdown",
   "metadata": {},
   "source": [
    "3. การคำนวณ Inverse kinematic และ Constrain\n",
    "\n",
    "<center><img src=\"img/AlgX3.jpg\"/></center>\n",
    "<center><img src=\"img/AlgX4.jpg\"/></center>\n",
    "<center><img src=\"img/AlgX5.jpg\"/></center>\n",
    "<center><img src=\"img/AlgX6.jpg\"/></center>\n",
    "<center><img src=\"img/AlgX7.jpg\"/></center>\n",
    "<center><img src=\"img/AlgX7_1.png\"/></center>\n",
    "<center><img src=\"img/AlgX7_2.png\"/></center>"
   ]
  },
  {
   "cell_type": "markdown",
   "metadata": {},
   "source": [
    "4. ทำการส่ง joint_config ให้กับ controller\n",
    "\n",
    "<center><img src=\"img/AlgX8.png\"/></center>"
   ]
  },
  {
   "cell_type": "markdown",
   "metadata": {},
   "source": [
    "<font color='orange' size=6><B>การทำ Node Calibration ของ IMU</B></font>    "
   ]
  },
  {
   "cell_type": "markdown",
   "metadata": {},
   "source": [
    "1. ในการ Calibrate IMU จะทำการสร้าง Node สำหรับการ Calibrate โดยมีการทำงานดังนี้\n",
    "    - อ่านค่า IMU จาก Topic /cocoav_imu_arduino ที่ส่งมาจาก Arduino\n",
    "    - ทำการเก็บค่า linear_acceleration และ angular_velocity ที่อ่านได้จาก IMU ไว้ใน data frame ของ Pandas\n",
    "    - ทำการจับเวลาเริ่มต้นและจบการทำงานของ Node โดยจะกำหนดให้เก็บค่าทั้งหมด 10 วินาที\n",
    "    - คำนวณ mean และ variance ของค่า linear_acceleration และ angular_velocity ที่อ่านได้จาก IMU\n",
    "    - บันทึกในไฟล์ ymal\n",
    "\n",
    "<center><img src=\"img/cimu1.png\"/></center>\n",
    "<center><img src=\"img/cimu2.png\"/></center>"
   ]
  },
  {
   "cell_type": "markdown",
   "metadata": {},
   "source": [
    "2. สร้าง Node ที่จะใช้ในการแปลงค่า linear_acceleration และ angular_velocity ตามค่าที่ Calibrate ไว้ โดยเริ่มจาก\n",
    "    - โหลดไฟล์ yaml ที่เก็บค่า mean และ variance ของค่า linear_acceleration และ angular_velocity ที่อ่านได้จาก IMU\n",
    "    - ลบค่า mean ออกจากค่า linear_acceleration และ angular_velocity ที่อ่านได้จาก IMU\n",
    "    - แปลงค่า angular_velocity จาก deg/s เป็น rad/s (ไม่ได้แปลงมาตั้งแต่ Arduino)\n",
    "    - Publish ค่า linear_acceleration และ angular_velocity ที่แปลงได้ ใน Topic /cocoav_imu_calibrated\n",
    "\n",
    "<center><img src=\"img/cimu3.png\"/></center>\n",
    "<center><img src=\"img/cimu4.png\"/></center>"
   ]
  }
 ],
 "metadata": {
  "kernelspec": {
   "display_name": "Python 3.8.10 64-bit",
   "language": "python",
   "name": "python3"
  },
  "language_info": {
   "name": "python",
   "version": "3.8.10"
  },
  "orig_nbformat": 4,
  "vscode": {
   "interpreter": {
    "hash": "916dbcbb3f70747c44a77c7bcd40155683ae19c65e1c03b4aa3499c5328201f1"
   }
  }
 },
 "nbformat": 4,
 "nbformat_minor": 2
}
