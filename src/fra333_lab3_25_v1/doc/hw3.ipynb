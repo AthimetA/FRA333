{
 "cells": [
  {
   "cell_type": "markdown",
   "metadata": {},
   "source": [
    "<font color='orange' size=8><B>**LAB Assignment 3: Robot Simulation**</B></font>\n",
    "\n",
    "<font size=5><B>Objective :</B></font>\n",
    "\n",
    "1. ศึกษาการจำลองการเคลื่อนที่หุ่นยนต์ผ่านโปรแกรม Simulation (Gazebo)\n",
    "2. ศึกษาการเชื่อมต่อ Sensor กับ ROS2\n",
    "3. ศึกษาการสร้าง Algorithm สำหรับควบคุมตำแหน่งปลายมือของหุ่นยนต์\n"
   ]
  },
  {
   "cell_type": "markdown",
   "metadata": {},
   "source": [
    "<center><img src=\"ros2_control.jpg\" width=\"800\"/></center>"
   ]
  },
  {
   "cell_type": "markdown",
   "metadata": {},
   "source": [
    "<font size=5><B>Lab Instruction :</B></font>\n",
    "\n",
    "นักศึกษาจะต้องออกแบบระบบควบคุมหุ่นยนต์ด้วย ROS2 โดยที่จะต้องเชื่อมต่อระหว่าง IMU กับ ROS2 ด้วย Lib \n",
    "XICRO จากนั้นจึงนำค่าที่ได้มาเป็นสัญญาณขาเข้าของ Algorithm X เพื่อควบคุมตำแหน่งปลายมือของหุ่นยนต์ใน\n",
    "ระบบ Simulation มีขั้นตอนการทำและคะแนนดังต่อไปนี้ ( คะแนน 120/100 )\n",
    "\n",
    "1. การเชื่อมต่อ IMU เข้ากับ Library XICRO (20%)\n",
    "2. ทำโหนด Calibration ของ IMU (20%)     [ เป็นการคำนวณและเพิ่มค่าของ cov เข้าไปยัง message ]\n",
    "3. Algorithm X สำหรับการสั่งงานหุ่นยนต์ (30%)\n",
    "4. การนำไฟล์ URDF/XACRO ไปยังโปรแกรม GAZEBO (20%)\n",
    "5. การติดตั้ง ROS2_CONTROLLER ไปยัง GAZEBO (20%)\n",
    "6. การออกแบบโครงสร้าง Package ใน ROS2 (10%)"
   ]
  },
  {
   "cell_type": "markdown",
   "metadata": {},
   "source": [
    "<font color='orange' size=6><B>ภาพรวมของหุ่นยนต์ COCOA V (3DOF)</B></font>\n",
    "\n",
    "หุ่นยนต์ COCOA V ถูกออกแบบเป็นหุ่นยนต์ประเภท Articulated Robot ที่มี 3 Degree of Freedom โดยโปรแกรม Solidworks 2021 \n",
    "\n",
    "<center><img src=\"img/CocoaV_01.png\" width=\"600\"/></center>\n",
    "<center><img src=\"img/CocoaV_02.png\" width=\"600\"/></center>\n",
    "<center><img src=\"img/CocoaV_03.png\" width=\"600\"/></center>\n",
    "\n"
   ]
  },
  {
   "cell_type": "markdown",
   "metadata": {},
   "source": [
    "โดยเราออกแบบให้หุ่นยนต์ของพวกเราประกอบด้วย ข้อต่อแบบ Revolute ทั้งหมด 3 ข้อต่อและข้อต่อแบบ Fixed 2 ข้อต่อโดยจะสามารถจัดเรียงได้ดังนี้\n",
    "        <ul>\n",
    "        <li>world</li>\n",
    "          <li>    \"world_joint\" type=\"fixed\"</li>\n",
    "        <li>link_0</li>\n",
    "         <li>    \"joint_rev_0_1\" type=\"revolute\"</li>\n",
    "        <li>link_1</li>\n",
    "         <li>    \"joint_rev_1_2\" type=\"revolute\"</li>\n",
    "        <li>link_2</li>\n",
    "          <li>    \"joint_rev_2_3\" type=\"revolute\"</li>\n",
    "        <li>link_3</li>\n",
    "         <li>    \"joint_eff\" type=\"fixed\"</li>\n",
    "        <li>end_effector</li>     \n",
    "        </ul>  \n",
    "        "
   ]
  },
  {
   "cell_type": "markdown",
   "metadata": {},
   "source": [
    "<font color='white' size=3><B>การกำหนด coordinate system และ Center of Mass ให้แต่ละ link</B></font>\n",
    "<center><img src=\"img/Coordinate_System_00.png\" width=\"600\"/></center>\n",
    "<center><font color='Yellow' size=3><B>ภาพรวมของตำแหน่งของ Coordinate System และ Center of Mass</B></font></center>\n",
    "<center><img src=\"img/Coordinate_System_01.png\" width=\"600\"/></center>\n",
    "<center><font color='Yellow' size=3><B>Link_0</B></font></center>\n",
    "<center><img src=\"img/Coordinate_System_02.png\" width=\"600\"/></center>\n",
    "<center><font color='Yellow' size=3><B>Link_1</B></font></center>\n",
    "<center><img src=\"img/Coordinate_System_03.png\" width=\"600\"/></center>\n",
    "<center><font color='Yellow' size=3><B>Link_2</B></font></center>\n",
    "<center><img src=\"img/Coordinate_System_04.png\" width=\"600\"/></center>\n",
    "<center><font color='Yellow' size=3><B>Link_3</B></font></center>\n",
    "<center><img src=\"img/Coordinate_System_05.png\" width=\"600\"/></center>\n",
    "<center><font color='Yellow' size=3><B>End_effector</B></font></center>"
   ]
  },
  {
   "cell_type": "markdown",
   "metadata": {},
   "source": [
    "<font color='white' size=3><B>การทำ Mass Property (kilograms * square meters)</B></font>\n",
    "\n",
    "<center><img src=\"img/mass_01.png\" width=\"600\"/></center>\n",
    "<center><font color='Yellow' size=3><B>Link_0</B></font></center>\n",
    "<center><img src=\"img/mass_02.png\" width=\"600\"/></center>\n",
    "<center><font color='Yellow' size=3><B>Link_1</B></font></center>\n",
    "<center><img src=\"img/mass_03.png\" width=\"600\"/></center>\n",
    "<center><font color='Yellow' size=3><B>Link_2</B></font></center>\n",
    "<center><img src=\"img/mass_04.png\" width=\"600\"/></center>\n",
    "<center><font color='Yellow' size=3><B>Link_3</B></font></center>\n",
    "<center><img src=\"img/mass_05.png\" width=\"600\"/></center>\n",
    "<center><font color='Yellow' size=3><B>End_effector</B></font></center>"
   ]
  },
  {
   "cell_type": "markdown",
   "metadata": {},
   "source": [
    "<font color='white' size=3><B>การเขียนไฟล์ XACRO และ URDF.XACRO</B></font><br>\n",
    "\n",
    "<font color='white' size=3>เลือกใช้ XACRO เนื่องจากสามารถเขียน XML ได้สั้นและอ่านง่าย การเขียนไฟล์ XACRO มีทั้งหมด 3 ไฟล์ ประกอบไปด้วย  </font>\n",
    "\n",
    "1.cocoav_gazebo.xacro\n",
    "\n",
    "2.cocoav_include.xacro\n",
    "\n",
    "3.cocoav_robot.urdf.xacro\n",
    "\n",
    "<font color='orange' size=5>cocoav_gazebo.xacro</font>\n",
    "<ul>\n",
    "<li>ในส่วนของหัวข้อ \"ros2_control\" จะเป็นการกำหนด Parameter ให้กับ joint แต่ละอัน</li>\n",
    "<li>กำหนด parameter ให้กับ 3 command_interface ได้แก่ position, velocity, effort</li>\n",
    "</ul>  \n",
    "\n",
    "<img src=\"img/Gazebo_01.png\" width=\"\"/>\n",
    "\n",
    "<ul>\n",
    "<li>ในส่วนของหัวข้อ \"gazebo reference\" จะเป็นการกำหนด Parameter และ สีที่จะแสดงผลใน Gazebo ตามแต่ละ link</li>\n",
    "</ul>  \n",
    "\n",
    "<img src=\"img/Gazebo_02.png\" width=\"\"/>\n",
    "\n",
    "<font color='orange' size=5>cocoav_include.xacro</font>\n",
    "<ul>\n",
    "<li>ไฟล์นี้จะเน้นไปที่การประกาศตัวแปรที่จะดึงไปใช้ใน cocoav_robot.urdf.xacro</li>\n",
    "<li>โดยเราได้ทำการประกาศตัวแปรในส่วนของ Center of Mass</li>\n",
    "</ul>  \n",
    "\n",
    "<img src=\"img/cocoav_include_01.png\" width=\"\"/>\n",
    "\n",
    "\n",
    "<font color='orange' size=5>cocoav_robot.urdf.xacro</font>\n",
    "<ul>\n",
    "<li>เป็นการกำหนด Parameter ให้กับ 3 หัวข้อ ที่จะนำไปใช้ในโปแกรมจำลอง ได้แก่ </li>\n",
    "\n",
    "\"visual\" แสดงผลภาพใน Gazebo\n",
    "\n",
    "\"collision\" กำหนดการชนให้กับ visual\n",
    "\n",
    "\"inertial\" การกำหนดค่าความเฉื่อย\n",
    "</ul>  \n",
    "\n",
    "<img src=\"img/cocoav_robot_01.png\" width=\"\"/>\n",
    "\n",
    "<ul>\n",
    "<li>การกำหนด Joint</li>\n",
    "\n",
    "\"Joint Name\" กำหนดชื่อของ Joint\n",
    "\n",
    "\"parent\" กำหนด link แม่\n",
    "\n",
    "\"child\" กำหนด link ลูก\n",
    "\n",
    "\"origin\" กำหนดจุก origin\n",
    "\n",
    "\"axis\" กำหนดแกนหมุน\n",
    "\n",
    "\"limit\" กำหนด limit ของ joint\n",
    "\n",
    "</ul>  \n",
    "<img src=\"img/cocoav_robot_02.png\" width=\"\"/>\n"
   ]
  }
 ],
 "metadata": {
  "kernelspec": {
   "display_name": "Python 3.8.10 64-bit",
   "language": "python",
   "name": "python3"
  },
  "language_info": {
   "codemirror_mode": {
    "name": "ipython",
    "version": 3
   },
   "file_extension": ".py",
   "mimetype": "text/x-python",
   "name": "python",
   "nbconvert_exporter": "python",
   "pygments_lexer": "ipython3",
   "version": "3.8.10"
  },
  "orig_nbformat": 4,
  "vscode": {
   "interpreter": {
    "hash": "916dbcbb3f70747c44a77c7bcd40155683ae19c65e1c03b4aa3499c5328201f1"
   }
  }
 },
 "nbformat": 4,
 "nbformat_minor": 2
}
