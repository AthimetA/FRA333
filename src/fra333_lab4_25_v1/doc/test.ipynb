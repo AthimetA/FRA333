{
 "cells": [
  {
   "cell_type": "code",
   "execution_count": null,
   "metadata": {},
   "outputs": [],
   "source": [
    "xplane = 0.2\n",
    "xplanepenup = 0.2-0.02\n",
    "yplane = 0.0\n",
    "zplane = 0.4\n",
    "step = 0.05 \n",
    "via_point = [ \n",
    "    {'Position': [0.245, 0.0, 0.3978], 'Pentype': 'PenUp'}, # Home position\n",
    "    {'Position': [xplanepenup, yplane , zplane], 'Pentype': 'PenUp'}, # Ready position\n",
    "    # Draw a 'F'\n",
    "    # {'Position': [xplanepenup, yplane + (-2*step), zplane + (-1*step)], 'Pentype': 'PenUp'},\n",
    "    # {'Position': [xplane, yplane + (-2*step), zplane + (-1*step)], 'Pentype': 'PenDown'},\n",
    "    # {'Position': [xplane, yplane + (-2*step), zplane + ( 1*step)], 'Pentype': 'PenDown'},\n",
    "    # {'Position': [xplane, yplane + (-1*step), zplane + ( 1*step)], 'Pentype': 'PenUp'},\n",
    "    # {'Position': [xplanepenup, yplane + (-1*step), zplane + ( 1*step)], 'Pentype': 'PenUp'},\n",
    "    # {'Position': [xplanepenup, yplane + (-1*step), zplane + ( 0*step)], 'Pentype': 'PenUp'},\n",
    "    # {'Position': [xplane, yplane + (-1*step), zplane + ( 0*step)], 'Pentype': 'PenDown'},\n",
    "    # {'Position': [xplane, yplane + (-2*step), zplane + ( 0*step)], 'Pentype': 'PenUp'},\n",
    "    # {'Position': [xplanepenup, yplane + (-2*step), zplane + (0*step)], 'Pentype': 'PenUp'},\n",
    "    # # Draw a 'I'\n",
    "    # {'Position': [xplanepenup, yplane + ( -0.25*step), zplane + ( 1*step)], 'Pentype': 'PenUp'},\n",
    "    # {'Position': [xplane, yplane + ( -0.25*step), zplane + ( 1*step)], 'Pentype': 'PenDown'},\n",
    "    # {'Position': [xplane, yplane + ( 0.25*step), zplane + ( 1*step)], 'Pentype': 'PenUp'},\n",
    "    # {'Position': [xplanepenup, yplane + ( 0.25*step), zplane + ( 1*step)], 'Pentype': 'PenUp'},\n",
    "    # {'Position': [xplanepenup, yplane + ( 0.25*step), zplane + (-1*step)], 'Pentype': 'PenUp'},\n",
    "    # {'Position': [xplane, yplane + ( 0.25*step), zplane + ( -1*step)], 'Pentype': 'PenDown'},\n",
    "    # {'Position': [xplane, yplane + ( -0.25*step), zplane + ( -1*step)], 'Pentype': 'PenDown'},\n",
    "    # {'Position': [xplane, yplane + ( 0*step), zplane + (-1*step)], 'Pentype': 'PenDown'},\n",
    "    # {'Position': [xplane, yplane + ( 0*step), zplane + ( 1*step)], 'Pentype': 'PenUp'},\n",
    "    # {'Position': [xplanepenup, yplane + ( 0*step), zplane + ( 1*step)], 'Pentype': 'PenUp'},\n",
    "    # # Draw a 'B\n",
    "    # {'Position': [xplanepenup, yplane + ( 1*step), zplane + ( 1*step)], 'Pentype': 'PenUp'},\n",
    "    # {'Position': [xplane, yplane + ( 1*step), zplane + ( 1*step)], 'Pentype': 'PenDown'},\n",
    "    # {'Position': [xplane, yplane + ( 1.75*step), zplane + ( 1*step)], 'Pentype': 'PenDown'},\n",
    "    # {'Position': [xplane, yplane + ( 2*step), zplane + ( 0.8*step)], 'Pentype': 'PenDown'},\n",
    "    # {'Position': [xplane, yplane + ( 2*step), zplane + ( 0.2*step)], 'Pentype': 'PenDown'},\n",
    "    # {'Position': [xplane, yplane + ( 1.75*step), zplane + ( 0*step)], 'Pentype': 'PenDown'},\n",
    "    # {'Position': [xplane, yplane + ( 1*step), zplane + ( 0*step)], 'Pentype': 'PenDown'},\n",
    "    # {'Position': [xplane, yplane + ( 1.75*step), zplane + ( 0*step)], 'Pentype': 'PenDown'},\n",
    "    # {'Position': [xplane, yplane + ( 2*step), zplane + (-0.2*step)], 'Pentype': 'PenDown'},\n",
    "    # {'Position': [xplane, yplane + ( 2*step), zplane + (-0.8*step)], 'Pentype': 'PenDown'},\n",
    "    # {'Position': [xplane, yplane + ( 1.75*step), zplane + ( -1*step)], 'Pentype': 'PenDown'},\n",
    "    # {'Position': [xplane, yplane + ( 1*step), zplane + ( -1*step)], 'Pentype': 'PenDown'},\n",
    "    # {'Position': [xplane, yplane + ( 1*step), zplane + ( 1*step)], 'Pentype': 'PenUp'},\n",
    "    # {'Position': [xplanepenup, yplane + ( 1*step), zplane + ( 1*step)], 'Pentype': 'PenUp'},\n",
    "    # Draw a 'O'\n",
    "    {'Position': [xplanepenup, yplane + ( 2.5*step), zplane + ( 0.8*step)], 'Pentype': 'PenUp'},\n",
    "    {'Position': [xplane, yplane + ( 2.5*step), zplane + ( 0.8*step)], 'Pentype': 'PenDown'},\n",
    "    {'Position': [xplane, yplane + ( 2.7*step), zplane + ( 1*step)], 'Pentype': 'PenDown'},\n",
    "    {'Position': [xplane, yplane + ( 3.3*step), zplane + ( 1*step)], 'Pentype': 'PenDown'},\n",
    "    {'Position': [xplane, yplane + ( 3.5*step), zplane + ( 0.8*step)], 'Pentype': 'PenDown'},\n",
    "    {'Position': [xplane, yplane + ( 3.5*step), zplane + (-0.8*step)], 'Pentype': 'PenDown'},\n",
    "    {'Position': [xplane, yplane + ( 3.2*step), zplane + (-1*step)], 'Pentype': 'PenDown'},\n",
    "    {'Position': [xplane, yplane + ( 2.7*step), zplane + (-1*step)], 'Pentype': 'PenDown'},\n",
    "    {'Position': [xplane, yplane + ( 2.5*step), zplane + (-0.8*step)], 'Pentype': 'PenDown'},\n",
    "    {'Position': [xplane, yplane + ( 2.5*step), zplane + ( 0.8*step)], 'Pentype': 'PenUp'},\n",
    "    # Move out of the way\n",
    "    {'Position': [0.15, 0.0, 0.4], 'Pentype': 'PenUp'}, # Cocoax idle position :)\n",
    "    ]"
   ]
  }
 ],
 "metadata": {
  "kernelspec": {
   "display_name": "Python 3",
   "language": "python",
   "name": "python3"
  },
  "language_info": {
   "name": "python",
   "version": "3.8.10 (default, Jun 22 2022, 20:18:18) \n[GCC 9.4.0]"
  },
  "orig_nbformat": 4,
  "vscode": {
   "interpreter": {
    "hash": "916dbcbb3f70747c44a77c7bcd40155683ae19c65e1c03b4aa3499c5328201f1"
   }
  }
 },
 "nbformat": 4,
 "nbformat_minor": 2
}
