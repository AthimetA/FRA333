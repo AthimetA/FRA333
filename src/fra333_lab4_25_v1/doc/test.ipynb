{
 "cells": [
  {
   "cell_type": "code",
   "execution_count": 59,
   "metadata": {},
   "outputs": [],
   "source": [
    "import numpy as np\n",
    "\n",
    "x = np.array([1, 2, 3])\n",
    "y = np.array([4, 5, 6])\n",
    "\n",
    "z = x - y"
   ]
  },
  {
   "cell_type": "code",
   "execution_count": 60,
   "metadata": {},
   "outputs": [
    {
     "name": "stdout",
     "output_type": "stream",
     "text": [
      "[-3 -3 -3]\n"
     ]
    }
   ],
   "source": [
    "print(z)"
   ]
  },
  {
   "cell_type": "code",
   "execution_count": 61,
   "metadata": {},
   "outputs": [],
   "source": [
    "xplane = 0.2\n",
    "yplane = 0.0\n",
    "zplane = 0.4\n",
    "step = 0.05\n",
    "via_point = [  {'Position'  : [0.2, 0.0, 0.3978], 'Pentype': 'PenUp'},\n",
    "                {'Position'  : [0.2, 0.0, 0.3978], 'Pentype': 'PenUp'},\n",
    "                {'Position': [xplane, yplane + (-2*step), zplane + (-1*step)], 'Pentype': 'PenDown'},\n",
    "                {'Position': [xplane, yplane + (-2*step), zplane + ( 0*step)], 'Pentype': 'PenDown'},\n",
    "                {'Position': [xplane, yplane + (-1*step), zplane + ( 0*step)], 'Pentype': 'PenDown'},\n",
    "                {'Position': [xplane, yplane + (-2*step), zplane + ( 0*step)], 'Pentype': 'PenDown'},\n",
    "                {'Position': [xplane, yplane + (-2*step), zplane + ( 1*step)], 'Pentype': 'PenDown'},\n",
    "                {'Position': [xplane, yplane + (-1*step), zplane + ( 1*step)], 'Pentype': 'PenDown'},\n",
    "                ]\n",
    "idx = 0"
   ]
  },
  {
   "cell_type": "code",
   "execution_count": 62,
   "metadata": {},
   "outputs": [
    {
     "data": {
      "text/plain": [
       "'PenUp'"
      ]
     },
     "execution_count": 62,
     "metadata": {},
     "output_type": "execute_result"
    }
   ],
   "source": [
    "via_point[idx]['Pentype']"
   ]
  }
 ],
 "metadata": {
  "kernelspec": {
   "display_name": "Python 3",
   "language": "python",
   "name": "python3"
  },
  "language_info": {
   "codemirror_mode": {
    "name": "ipython",
    "version": 3
   },
   "file_extension": ".py",
   "mimetype": "text/x-python",
   "name": "python",
   "nbconvert_exporter": "python",
   "pygments_lexer": "ipython3",
   "version": "3.8.10"
  },
  "orig_nbformat": 4,
  "vscode": {
   "interpreter": {
    "hash": "916dbcbb3f70747c44a77c7bcd40155683ae19c65e1c03b4aa3499c5328201f1"
   }
  }
 },
 "nbformat": 4,
 "nbformat_minor": 2
}
