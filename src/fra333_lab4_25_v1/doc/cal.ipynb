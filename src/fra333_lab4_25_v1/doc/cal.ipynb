{
 "cells": [
  {
   "cell_type": "code",
   "execution_count": 21,
   "metadata": {},
   "outputs": [],
   "source": [
    "import sympy as sp\n",
    "import numpy as np\n",
    "np.set_printoptions(precision=4, suppress=True)\n",
    "\n",
    "x = sp.Symbol(\"x\", positive = True)\n",
    "y = sp.Symbol(\"y\", positive = True)\n",
    "z = sp.Symbol(\"z\", positive = True)\n",
    "l1 = sp.Symbol(\"l1\", positive = True)\n",
    "l2 = sp.Symbol(\"l2\", positive = True)\n",
    "l3 = sp.Symbol(\"l3\", positive = True)\n",
    "l4 = sp.Symbol(\"l4\", positive = True)\n",
    "q1 = sp.Symbol(\"q1\", positive = True)\n",
    "q2 = sp.Symbol(\"q2\", positive = True)\n",
    "q3 = sp.Symbol(\"q3\", positive = True)\n",
    "q4 = sp.Symbol(\"q4\", positive = True)\n",
    "\n",
    "phi = sp.Symbol(\"phi\", positive = True)\n",
    "pie = sp.Symbol(\"pi\", positive = True)"
   ]
  },
  {
   "cell_type": "code",
   "execution_count": 22,
   "metadata": {},
   "outputs": [],
   "source": [
    "def translateX(x):\n",
    "    return sp.Matrix([[1, 0, 0, x], [0, 1, 0, 0], [0, 0, 1, 0], [0, 0, 0, 1]])\n",
    "\n",
    "def translateZ(z):\n",
    "    return sp.Matrix([[1, 0, 0, 0], [0, 1, 0, 0], [0, 0, 1, z], [0, 0, 0, 1]])\n",
    "\n",
    "def rotateX(theta):\n",
    "    return sp.Matrix([[1, 0, 0, 0], [0, sp.cos(theta), -sp.sin(theta), 0], [0, sp.sin(theta), sp.cos(theta), 0], [0, 0, 0, 1]])\n",
    "\n",
    "def rotateZ(theta):\n",
    "    return sp.Matrix([[sp.cos(theta), -sp.sin(theta), 0, 0], [sp.sin(theta), sp.cos(theta), 0, 0], [0, 0, 1, 0], [0, 0, 0, 1]])\n",
    "\n",
    "def rotateY(theta):\n",
    "    return sp.Matrix([[sp.cos(theta), 0, sp.sin(theta), 0], [0, 1, 0, 0], [-sp.sin(theta), 0, sp.cos(theta), 0], [0, 0, 0, 1]])"
   ]
  },
  {
   "cell_type": "code",
   "execution_count": 23,
   "metadata": {},
   "outputs": [
    {
     "data": {
      "text/latex": [
       "$\\displaystyle \\left[\\begin{matrix}0 & 0 & l_{1} & 0 & 0\\\\0 & \\frac{\\pi}{2} & 0 & \\frac{\\pi}{2} & 0\\\\l_{2} & 0 & 0 & 0 & 0\\end{matrix}\\right]$"
      ],
      "text/plain": [
       "Matrix([\n",
       "[ 0,    0, l1,    0, 0],\n",
       "[ 0, pi/2,  0, pi/2, 0],\n",
       "[l2,    0,  0,    0, 0]])"
      ]
     },
     "execution_count": 23,
     "metadata": {},
     "output_type": "execute_result"
    }
   ],
   "source": [
    "DH = sp.Matrix([[0, 0, l1, 0, 0],\n",
    "                [0, sp.pi/2, 0, sp.pi/2, 0],\n",
    "                [l2, 0, 0, 0, 0],])\n",
    "DH"
   ]
  },
  {
   "cell_type": "code",
   "execution_count": 38,
   "metadata": {},
   "outputs": [
    {
     "name": "stdout",
     "output_type": "stream",
     "text": [
      "⎡⎡ -0.99999873172754   -0.00159265291648683  0  0 ⎤  ⎡0    0.99999873172754   \n",
      "⎢⎢                                                ⎥  ⎢                        \n",
      "⎢⎢0.00159265291648683   -0.99999873172754    0  0 ⎥  ⎢0  -0.00159265291648683 \n",
      "⎢⎢                                                ⎥, ⎢                        \n",
      "⎢⎢         0                    0            1  l₁⎥  ⎢1           0           \n",
      "⎢⎢                                                ⎥  ⎢                        \n",
      "⎣⎣         0                    0            0  1 ⎦  ⎣0           0           \n",
      "\n",
      " 0.00159265291648683  0 ⎤  ⎡0.001592650896569    -0.999997463456687   0.001592\n",
      "                        ⎥  ⎢                                                  \n",
      "  0.99999873172754    0 ⎥  ⎢-2.536543312394e-6   0.001592650896569     0.99999\n",
      "                        ⎥, ⎢                                                  \n",
      "          0           l₁⎥  ⎢-0.99999873172754   -0.00159265291648683          \n",
      "                        ⎥  ⎢                                                  \n",
      "          0           1 ⎦  ⎣        0                    0                    \n",
      "\n",
      "65291648683     0   ⎤⎤\n",
      "                    ⎥⎥\n",
      "873172754       0   ⎥⎥\n",
      "                    ⎥⎥\n",
      " 0           l₁ + l₂⎥⎥\n",
      "                    ⎥⎥\n",
      " 0              1   ⎦⎦\n"
     ]
    }
   ],
   "source": [
    "H  = sp.Matrix([[1, 0, 0, 0], [0, 1, 0, 0], [0, 0, 1, 0], [0, 0, 0, 1]])\n",
    "Hlist = []\n",
    "q = [q1,q2,q3,q4]\n",
    "for i in range(DH.shape[0]):\n",
    "    if DH[i, 4] == 0:# Revolute joint\n",
    "        Hj = rotateZ(q[i])\n",
    "    elif DH[i, 4] == 1: # Prismatic joint\n",
    "        Hj = translateZ(q[i])\n",
    "    else: # Fixed joint\n",
    "        Hj = sp.Matrix([[1, 0, 0, 0], [0, 1, 0, 0], [0, 0, 1, 0], [0, 0, 0, 1]])\n",
    "    H = H * translateX(DH[i, 0]) * rotateX(DH[i, 1]) * translateZ(DH[i, 2]) * rotateZ(DH[i, 3]) * Hj\n",
    "    Hlist.append(H)\n",
    "H = sp.trigsimp(H)\n",
    "sp.pprint(Hlist)"
   ]
  },
  {
   "cell_type": "code",
   "execution_count": 39,
   "metadata": {},
   "outputs": [
    {
     "name": "stdout",
     "output_type": "stream",
     "text": [
      "⎡ -0.99999873172754   -0.00159265291648683  0⎤\n",
      "⎢                                            ⎥\n",
      "⎢0.00159265291648683   -0.99999873172754    0⎥\n",
      "⎢                                            ⎥\n",
      "⎣         0                    0            1⎦\n"
     ]
    }
   ],
   "source": [
    "R0_1 = Hlist[0][0:3,0:3]\n",
    "sp.pprint(R0_1)"
   ]
  },
  {
   "cell_type": "code",
   "execution_count": 40,
   "metadata": {},
   "outputs": [
    {
     "name": "stdout",
     "output_type": "stream",
     "text": [
      "⎡0    0.99999873172754    0.00159265291648683⎤\n",
      "⎢                                            ⎥\n",
      "⎢0  -0.00159265291648683   0.99999873172754  ⎥\n",
      "⎢                                            ⎥\n",
      "⎣1           0                     0         ⎦\n"
     ]
    }
   ],
   "source": [
    "R0_2 = Hlist[1][0:3,0:3]\n",
    "sp.pprint(R0_2)"
   ]
  },
  {
   "cell_type": "code",
   "execution_count": 41,
   "metadata": {},
   "outputs": [
    {
     "name": "stdout",
     "output_type": "stream",
     "text": [
      "⎡0.001592650896569    -0.999997463456687   0.00159265291648683⎤\n",
      "⎢                                                             ⎥\n",
      "⎢-2.536543312394e-6   0.001592650896569     0.99999873172754  ⎥\n",
      "⎢                                                             ⎥\n",
      "⎣-0.99999873172754   -0.00159265291648683           0         ⎦\n"
     ]
    }
   ],
   "source": [
    "R0_3 = Hlist[2][0:3,0:3]\n",
    "sp.pprint(R0_3)"
   ]
  },
  {
   "cell_type": "code",
   "execution_count": 42,
   "metadata": {},
   "outputs": [
    {
     "data": {
      "text/latex": [
       "$\\displaystyle \\left[\\begin{matrix}0.999997463456687 & -0.00159265291648683 & 0.001592650896569 & 0.199999492691338\\\\-0.001592650896569 & -0.99999873172754 & -2.536543312394 \\cdot 10^{-6} & -0.000318530179313799\\\\0.00159265291648683 & 0 & -0.99999873172754 & l_{1} + l_{2} + 0.000318530583297366\\\\0 & 0 & 0 & 1\\end{matrix}\\right]$"
      ],
      "text/plain": [
       "Matrix([\n",
       "[  0.999997463456687, -0.00159265291648683,  0.001592650896569,              0.199999492691338],\n",
       "[ -0.001592650896569,    -0.99999873172754, -2.536543312394e-6,          -0.000318530179313799],\n",
       "[0.00159265291648683,                    0,  -0.99999873172754, l1 + l2 + 0.000318530583297366],\n",
       "[                  0,                    0,                  0,                              1]])"
      ]
     },
     "execution_count": 42,
     "metadata": {},
     "output_type": "execute_result"
    }
   ],
   "source": [
    "H3e = sp.Matrix([[0, 0, 1, 0],\n",
    "                 [-1, 0, 0, -l3],\n",
    "                 [0, -1, 0, 0],\n",
    "                 [0, 0, 0, 1]])\n",
    "He = H * H3e\n",
    "He = sp.trigsimp(He)\n",
    "He"
   ]
  },
  {
   "cell_type": "code",
   "execution_count": 29,
   "metadata": {},
   "outputs": [
    {
     "data": {
      "text/latex": [
       "$\\displaystyle \\left[\\begin{matrix}x\\\\y\\\\z\\end{matrix}\\right] = \\left[\\begin{matrix}\\left(- l_{2} \\sin{\\left(q_{2} \\right)} + l_{3} \\cos{\\left(q_{2} + q_{3} \\right)}\\right) \\cos{\\left(q_{1} \\right)}\\\\\\left(- l_{2} \\sin{\\left(q_{2} \\right)} + l_{3} \\cos{\\left(q_{2} + q_{3} \\right)}\\right) \\sin{\\left(q_{1} \\right)}\\\\l_{1} + l_{2} \\cos{\\left(q_{2} \\right)} + l_{3} \\sin{\\left(q_{2} + q_{3} \\right)}\\end{matrix}\\right]$"
      ],
      "text/plain": [
       "Eq(Matrix([\n",
       "[x],\n",
       "[y],\n",
       "[z]]), Matrix([\n",
       "[(-l2*sin(q2) + l3*cos(q2 + q3))*cos(q1)],\n",
       "[(-l2*sin(q2) + l3*cos(q2 + q3))*sin(q1)],\n",
       "[      l1 + l2*cos(q2) + l3*sin(q2 + q3)]]))"
      ]
     },
     "execution_count": 29,
     "metadata": {},
     "output_type": "execute_result"
    }
   ],
   "source": [
    "P = sp.trigsimp(He.col(3).row([0,1,2]))\n",
    "eqP = sp.Eq(sp.Matrix([x, y, z]),P)\n",
    "eqP"
   ]
  },
  {
   "cell_type": "code",
   "execution_count": 30,
   "metadata": {},
   "outputs": [
    {
     "data": {
      "text/latex": [
       "$\\displaystyle \\left[\\begin{matrix}- l_{1} + z\\\\r_{1} \\sqrt{x^{2} + y^{2}}\\end{matrix}\\right]$"
      ],
      "text/plain": [
       "Matrix([\n",
       "[             -l1 + z],\n",
       "[r1*sqrt(x**2 + y**2)]])"
      ]
     },
     "execution_count": 30,
     "metadata": {},
     "output_type": "execute_result"
    }
   ],
   "source": [
    "r1 = sp.Symbol(\"r1\", positive = True)\n",
    "A = sp.Matrix([[z-l1],[r1*sp.sqrt(x**2+y**2)]])\n",
    "A"
   ]
  },
  {
   "cell_type": "code",
   "execution_count": 31,
   "metadata": {},
   "outputs": [
    {
     "data": {
      "text/latex": [
       "$\\displaystyle \\left[\\begin{matrix}l_{2} + l_{3} \\sin{\\left(q_{3} \\right)} & l_{3} \\cos{\\left(q_{3} \\right)}\\\\l_{3} \\cos{\\left(q_{3} \\right)} & - l_{2} - l_{3} \\sin{\\left(q_{3} \\right)}\\end{matrix}\\right]$"
      ],
      "text/plain": [
       "Matrix([\n",
       "[l2 + l3*sin(q3),       l3*cos(q3)],\n",
       "[     l3*cos(q3), -l2 - l3*sin(q3)]])"
      ]
     },
     "execution_count": 31,
     "metadata": {},
     "output_type": "execute_result"
    }
   ],
   "source": [
    "B = sp.Matrix([[l2+l3*sp.sin(q3),l3*sp.cos(q3)],[l3*sp.cos(q3),-l2-l3*sp.sin(q3)]])\n",
    "B"
   ]
  },
  {
   "cell_type": "code",
   "execution_count": 32,
   "metadata": {},
   "outputs": [
    {
     "data": {
      "text/latex": [
       "$\\displaystyle \\left[\\begin{matrix}\\frac{- l_{2} - l_{3} \\sin{\\left(q_{3} \\right)}}{- l_{3}^{2} \\cos^{2}{\\left(q_{3} \\right)} + \\left(- l_{2} - l_{3} \\sin{\\left(q_{3} \\right)}\\right) \\left(l_{2} + l_{3} \\sin{\\left(q_{3} \\right)}\\right)} & - \\frac{l_{3} \\cos{\\left(q_{3} \\right)}}{- l_{3}^{2} \\cos^{2}{\\left(q_{3} \\right)} + \\left(- l_{2} - l_{3} \\sin{\\left(q_{3} \\right)}\\right) \\left(l_{2} + l_{3} \\sin{\\left(q_{3} \\right)}\\right)}\\\\- \\frac{l_{3} \\cos{\\left(q_{3} \\right)}}{- l_{3}^{2} \\cos^{2}{\\left(q_{3} \\right)} + \\left(- l_{2} - l_{3} \\sin{\\left(q_{3} \\right)}\\right) \\left(l_{2} + l_{3} \\sin{\\left(q_{3} \\right)}\\right)} & \\frac{l_{2} + l_{3} \\sin{\\left(q_{3} \\right)}}{- l_{3}^{2} \\cos^{2}{\\left(q_{3} \\right)} + \\left(- l_{2} - l_{3} \\sin{\\left(q_{3} \\right)}\\right) \\left(l_{2} + l_{3} \\sin{\\left(q_{3} \\right)}\\right)}\\end{matrix}\\right]$"
      ],
      "text/plain": [
       "Matrix([\n",
       "[(-l2 - l3*sin(q3))/(-l3**2*cos(q3)**2 + (-l2 - l3*sin(q3))*(l2 + l3*sin(q3))),       -l3*cos(q3)/(-l3**2*cos(q3)**2 + (-l2 - l3*sin(q3))*(l2 + l3*sin(q3)))],\n",
       "[       -l3*cos(q3)/(-l3**2*cos(q3)**2 + (-l2 - l3*sin(q3))*(l2 + l3*sin(q3))), (l2 + l3*sin(q3))/(-l3**2*cos(q3)**2 + (-l2 - l3*sin(q3))*(l2 + l3*sin(q3)))]])"
      ]
     },
     "execution_count": 32,
     "metadata": {},
     "output_type": "execute_result"
    }
   ],
   "source": [
    "Binv = B.inv()\n",
    "Binv"
   ]
  },
  {
   "cell_type": "code",
   "execution_count": 33,
   "metadata": {},
   "outputs": [
    {
     "data": {
      "text/latex": [
       "$\\displaystyle \\left[\\begin{matrix}\\frac{- l_{1} l_{2} - l_{1} l_{3} \\sin{\\left(q_{3} \\right)} + l_{2} z + l_{3} r_{1} \\sqrt{x^{2} + y^{2}} \\cos{\\left(q_{3} \\right)} + l_{3} z \\sin{\\left(q_{3} \\right)}}{l_{2}^{2} + 2 l_{2} l_{3} \\sin{\\left(q_{3} \\right)} + l_{3}^{2}}\\\\\\frac{l_{3} \\left(- l_{1} + z\\right) \\cos{\\left(q_{3} \\right)}}{l_{2}^{2} + 2 l_{2} l_{3} \\sin{\\left(q_{3} \\right)} + l_{3}^{2}} - \\frac{r_{1} \\left(l_{2} + l_{3} \\sin{\\left(q_{3} \\right)}\\right) \\sqrt{x^{2} + y^{2}}}{l_{2}^{2} + 2 l_{2} l_{3} \\sin{\\left(q_{3} \\right)} + l_{3}^{2}}\\end{matrix}\\right]$"
      ],
      "text/plain": [
       "Matrix([\n",
       "[               (-l1*l2 - l1*l3*sin(q3) + l2*z + l3*r1*sqrt(x**2 + y**2)*cos(q3) + l3*z*sin(q3))/(l2**2 + 2*l2*l3*sin(q3) + l3**2)],\n",
       "[l3*(-l1 + z)*cos(q3)/(l2**2 + 2*l2*l3*sin(q3) + l3**2) - r1*(l2 + l3*sin(q3))*sqrt(x**2 + y**2)/(l2**2 + 2*l2*l3*sin(q3) + l3**2)]])"
      ]
     },
     "execution_count": 33,
     "metadata": {},
     "output_type": "execute_result"
    }
   ],
   "source": [
    "Ans = Binv*A\n",
    "Ans = sp.trigsimp(Ans)\n",
    "Ans"
   ]
  },
  {
   "cell_type": "code",
   "execution_count": 49,
   "metadata": {},
   "outputs": [],
   "source": [
    "import numpy as np\n",
    "[l1,l2,l3] = [0.1360,0.26179,0.200]\n",
    "[q1,q2,q3] = [3.14,0,3.14]\n",
    "temp = ((-l2*np.sin(q2))+(l3*np.cos(q2+q3)))\n",
    "x = temp*np.cos(q1)\n",
    "y = temp*np.sin(q1)\n",
    "z = l1 + (l2*np.cos(q2)) + (l3*np.sin(q2+q3))"
   ]
  },
  {
   "cell_type": "code",
   "execution_count": 50,
   "metadata": {},
   "outputs": [
    {
     "name": "stdout",
     "output_type": "stream",
     "text": [
      "0.19999949269133752 -0.000318530179313799 0.39810853058329737\n"
     ]
    }
   ],
   "source": [
    "print(x,y,z)"
   ]
  },
  {
   "cell_type": "code",
   "execution_count": 58,
   "metadata": {},
   "outputs": [
    {
     "name": "stdout",
     "output_type": "stream",
     "text": [
      "[[ 0.2   ]\n",
      " [-0.0003]\n",
      " [ 0.3981]]\n",
      "[[0]\n",
      " [0]\n",
      " [1]]\n"
     ]
    }
   ],
   "source": [
    "a = np.matrix([[x],[y],[z]])\n",
    "b = np.matrix([[0],[0],[1]])\n",
    "print(a)\n",
    "print(b)"
   ]
  },
  {
   "cell_type": "code",
   "execution_count": 59,
   "metadata": {},
   "outputs": [
    {
     "name": "stdout",
     "output_type": "stream",
     "text": [
      "(3, 1) (3, 1)\n"
     ]
    }
   ],
   "source": [
    "print(a.shape,b.shape)"
   ]
  },
  {
   "cell_type": "code",
   "execution_count": 60,
   "metadata": {},
   "outputs": [
    {
     "data": {
      "text/plain": [
       "array([[-0.0003],\n",
       "       [-0.2   ],\n",
       "       [ 0.    ]])"
      ]
     },
     "execution_count": 60,
     "metadata": {},
     "output_type": "execute_result"
    }
   ],
   "source": [
    "np.cross(a,b,axis=0)"
   ]
  }
 ],
 "metadata": {
  "kernelspec": {
   "display_name": "Python 3.8.10 64-bit",
   "language": "python",
   "name": "python3"
  },
  "language_info": {
   "codemirror_mode": {
    "name": "ipython",
    "version": 3
   },
   "file_extension": ".py",
   "mimetype": "text/x-python",
   "name": "python",
   "nbconvert_exporter": "python",
   "pygments_lexer": "ipython3",
   "version": "3.8.10 (default, Jun 22 2022, 20:18:18) \n[GCC 9.4.0]"
  },
  "orig_nbformat": 4,
  "vscode": {
   "interpreter": {
    "hash": "916dbcbb3f70747c44a77c7bcd40155683ae19c65e1c03b4aa3499c5328201f1"
   }
  }
 },
 "nbformat": 4,
 "nbformat_minor": 2
}
