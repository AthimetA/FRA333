{
 "cells": [
  {
   "cell_type": "markdown",
   "metadata": {},
   "source": [
    "<font color='orange' size=8><B>Lab Report : Basic ROS for FRA333</B></font>\n",
    "\n",
    "<font size=5><B>Objective:</B></font>\n",
    "- เพื่อศึกษาการทำงานของระบบ ROS2 ในหัวข้อ Node, Publisher, Subscriber, Service, Parameter และ Launch File\n",
    "- เพื่อให้นักศึกษาสามารถประยุกต์การองค์ความรู้จากวัตถุประสงค์ข้อที่ 1 กับโจทย์พื้นฐาน\n",
    "\n",
    "------------------------------------------------------------------------------------------------------------------------------"
   ]
  },
  {
   "cell_type": "markdown",
   "metadata": {},
   "source": [
    "<img src=\"pic1.png\" />\n",
    "\n",
    "- <font color='red'>Node: /linear/noise_generator</font> คือ โหนดที่สามารถสร้างสัญญาณรบกวนของความเร็วเชิงเส้นจำนวน 1 ช่องสัญญาณประกอบด้วย \n",
    "    - <font color='green'>Topic (Publisher): /noise Type: std_msgs/Float64</font> \n",
    "    - <font color='pink'>Argument System: /rate</font> ความถี่ในการส่งสัญญาณ นักศึกษาสามารถตั้งค่าความถี่ได้จาก launch file (The default rate is 5.0 Hz)\n",
    "    - <font color='blue'>Service (Server): /set_noise</font> สำหรับการปรับค่าคุณสมบัติของสัญญาณรบกวน โดยที่การเรียกใช้งาน service ผ่าน custom service ในรูปแบบดังนี้ (ไฟล์ SetNoise.srv ใน lab1_interfaces/srv)\n",
    "        - <font color='purple'>request: /mean (std_msgs/Float64)</font> (The default mean is 0.0)\n",
    "        - <font color='purple'>request: /variance (std_msgs/Float64)</font> (The default mean is 1.0)\n",
    "\n",
    "- <font color='red'>Node: /angular/noise_generator</font> คือ โหนดที่สามารถสร้างสัญญาณรบกวนของความเร็วเชิงมุมจำนวน 1 ช่องสัญญาณประกอบด้วย \n",
    "    - <font color='green'>Topic (Publisher): /noise Type: std_msgs/Float64</font> \n",
    "    - <font color='pink'>Argument System: /rate</font> ความถี่ในการส่งสัญญาณ นักศึกษาสามารถตั้งค่าความถี่ได้จาก launch file (The default rate is 5.0 Hz)\n",
    "    - <font color='blue'>Service (Server): /set_noise</font> สำหรับการปรับค่าคุณสมบัติของสัญญาณรบกวน โดยที่การเรียกใช้งาน service ผ่าน custom service ในรูปแบบดังนี้ (ไฟล์ SetNoise.srv ใน lab1_interfaces/srv)\n",
    "        - <font color='purple'>request: /mean (std_msgs/Float64)</font> (The default mean is 0.0)\n",
    "        - <font color='purple'>request: /variance (std_msgs/Float64)</font> (The default mean is 1.0)\n",
    "\n",
    "- <font color='red'>Node: /velocity_multiplexer</font> คือ โหนดที่สามารถรวมสัญญาณรบกวนจากโหนด <font color='red'>Node: /linear/noise_generator และ /angular/noise_generator</font> จากนั้นนำมาสร้างคำสั่งในการเคลื่อนที่ของเต่า\n",
    "    - <font color='green'>Topic (Publisher): /cmd_vel Type: geometry_msgs/Twist</font> \n",
    "    - <font color='green'>Topic (Subscriber): /linear/noise Type: std_msgs/Float64</font> \n",
    "    - <font color='green'>Topic (Subscriber): /angular/noise Type: std_msgs/Float64</font> \n",
    "    - <font color='pink'>Argument System: /rate</font> ความถี่ในการส่งสัญญาณ นักศึกษาสามารถตั้งค่าความถี่ได้จาก launch file (The default rate is 5.0 Hz)\n",
    "\n",
    "------------------------------------------------------------------------------------------------------------------------------"
   ]
  },
  {
   "cell_type": "markdown",
   "metadata": {},
   "source": [
    "<font color='orange' size=6><B>อธิบายการเขียน Node: noise_generator และ velocity_mux</B></font>\n",
    "\n",
    "- <font color='red'>Node: /linear,angular/noise_generator</font> คือ โหนดที่สามารถสร้างสัญญาณรบกวนของความเร็วเชิงเส้นจำนวน 1 ช่องสัญญาณประกอบด้วย \n",
    "    - <font color='green'>Topic (Publisher): /noise Type: std_msgs/Float64</font> \n",
    "    - <font color='pink'>Argument System: /rate</font> ความถี่ในการส่งสัญญาณ นักศึกษาสามารถตั้งค่าความถี่ได้จาก launch file (The default rate is 5.0 Hz)\n",
    "    - <font color='blue'>Service (Server): /set_noise</font> สำหรับการปรับค่าคุณสมบัติของสัญญาณรบกวน โดยที่การเรียกใช้งาน service ผ่าน custom service ในรูปแบบดังนี้ (ไฟล์ SetNoise.srv ใน lab1_interfaces/srv)\n",
    "        - <font color='purple'>request: /mean (std_msgs/Float64)</font> (The default mean is 0.0)\n",
    "        - <font color='purple'>request: /variance (std_msgs/Float64)</font> (The default mean is 1.0)"
   ]
  },
  {
   "cell_type": "markdown",
   "metadata": {},
   "source": [
    "- <font color='red'>การ Import library ที่จำเป็นในการเขียน Node</font>\n",
    "    - <font color='green'>numpy </font>สำหรับการใช้ Function Random (np.random.normal())\n",
    "    - <font color='green'>rclpy.node import Node </font>เพื่อให้สามารถสร้าง Class Node inherits function ต่าง ๆ มาได้\n",
    "    - <font color='green'>std_msgs.msg </font> เพื่อให้สามารถใช้ msg type Float64 ตาม requirement ได้\n",
    "    - <font color='green'>lab1_interfaces.srv import SetNoise </font> เพื่อให้สามารถใช้ custom srv จาก pkg lab1_interfaces ได้ (SetNoise)"
   ]
  },
  {
   "cell_type": "code",
   "execution_count": 1,
   "metadata": {},
   "outputs": [],
   "source": [
    "import rclpy\n",
    "import numpy as np\n",
    "from rclpy.node import Node\n",
    "from std_msgs.msg import Float64\n",
    "\n",
    "from lab1_interfaces.srv import SetNoise\n",
    "\n",
    "import sys"
   ]
  },
  {
   "cell_type": "markdown",
   "metadata": {},
   "source": [
    "- <font color='red'>Class NoiseGenerator</font>"
   ]
  },
  {
   "cell_type": "code",
   "execution_count": 2,
   "metadata": {},
   "outputs": [],
   "source": [
    "class NoiseGenerator(Node):\n",
    "\n",
    "    def __init__(self):\n",
    "        super().__init__('noise_generator')\n",
    "        # get the rate from argument or default\n",
    "        if len(sys.argv)>2: \n",
    "            self.rate = float(sys.argv[1])\n",
    "        else:\n",
    "            self.rate = 5.0\n",
    "        # add codes here\n",
    "        \n",
    "        # Parameters\n",
    "        self.declare_parameters(namespace='',parameters=[('None',None)]) \n",
    "        self.noise_type = self.get_namespace()\n",
    "        self.noise_rate = 1/self.rate # rate is the publishing rate defualt is 5 HZ (0.2s)\n",
    "        \n",
    "        # Publishers\n",
    "        self.noise_pub = self.create_publisher(Float64, f'{self.noise_type}/noise', 10)\n",
    "        \n",
    "        # Services Server\n",
    "        self.noise_server = self.create_service(SetNoise, f'{self.noise_type}/set_noise', self.set_noise_callback)\n",
    "        \n",
    "        # Timer\n",
    "        self.timer = self.create_timer(self.noise_rate, callback=self.timer_callback)\n",
    "\n",
    "        # additional attributes\n",
    "        # variables\n",
    "        self.noise_data = 0.0\n",
    "        self.mean = 0.0\n",
    "        self.variance = 1.0\n",
    "        self.get_logger().info(f'Starting {self.get_namespace()}/{self.get_name()} with the default parameter. mean: {self.mean}, variance: {self.variance}')\n",
    "    \n",
    "    def set_noise_callback(self,request:SetNoise.Request,response:SetNoise.Response):\n",
    "        # Set the noise parameter\n",
    "        # Service callback with srv request and response\n",
    "        # SetNoise.srv\n",
    "        # request = float64 mean , float64 variance\n",
    "        # response = None\n",
    "        self.mean = request.mean.data\n",
    "        self.variance = request.variance.data\n",
    "        return response # return response to the client\n",
    "    \n",
    "    def publish_noise_msg(self):\n",
    "        # Generate noise and publish\n",
    "        # Foat64 msg : float64 data\n",
    "        self.noise_data = np.random.normal(self.mean, np.sqrt(self.variance))  # Gaussian noise\n",
    "        noise = Float64()\n",
    "        noise.data = self.noise_data\n",
    "        self.noise_pub.publish(noise)\n",
    "    \n",
    "    def timer_callback(self):\n",
    "        self.publish_noise_msg()\n",
    "        self.get_logger().info('node %s noise data: %.4f' % (self.noise_type,self.noise_data))"
   ]
  },
  {
   "cell_type": "markdown",
   "metadata": {},
   "source": [
    "1.โค้ตที่ใช้ในการ initialize class node โดยจะตั้งชื่อให้กับ node ของ class นี้ว่า noise_generator\n",
    "\n",
    "    def __init__(self):\n",
    "        super().__init__('noise_generator')"
   ]
  },
  {
   "cell_type": "markdown",
   "metadata": {},
   "source": [
    "2.กำหนดให้ node รับค่า argument โดยจะทำการเช็คว่าได้รับรับมาหรือไม่หากได้รับมาจะทำการ set ค่าของ rate หากไม่ได้รับจะตั้งเป็นค่า Defult(5.0 hz)\\\n",
    "(sys.argv[0] คือ path)\n",
    "\n",
    "        # get the rate from argument or default\n",
    "        if len(sys.argv)>2: \n",
    "            self.rate = float(sys.argv[1])\n",
    "        else:\n",
    "            self.rate = 5.0\n",
    "        # add codes here"
   ]
  },
  {
   "cell_type": "markdown",
   "metadata": {},
   "source": [
    "3.ใช้ function declare_parameters ในการประกาศให้ node มี parameters และ namespace เริ่มต้น 'None'เป็น None และ namespace เป็น ''(ไม่มี) จากนั้น\n",
    "ทำการดึงค่า namespace โดยใช้ function get_namespace() มาเก็บไว้ที่ตัวแปร noise_type และทำการแปลง rate จากความถี่ให้กลายเป็นคาบ\n",
    "\n",
    "        self.declare_parameters(namespace='',parameters=[('None',None)]) # ไม่จำเป็นต้องประกาศ\n",
    "        self.noise_type = self.get_namespace()\n",
    "        self.noise_rate = 1/self.rate # rate is the publishing rate defualt is 5 HZ (0.2s)"
   ]
  },
  {
   "cell_type": "markdown",
   "metadata": {},
   "source": [
    "4.ประกาศ publisher และ service server ตาม Type ของ msg และ srv ที่กำหนดไว้ โดยชื่อ Topic และ service จะใช้ตัวแปร noise_type ทีดึงค่าตัวแปรมาจาก namespace จากนั้นประกาศ timer ที่ใช้ในการ publish msg โดยใช้คาบที่ได้มาจาก rate\n",
    "\n",
    "        # Publishers\n",
    "        self.noise_pub = self.create_publisher(Float64, f'{self.noise_type}/noise', 10)\n",
    "        \n",
    "        # Services Server\n",
    "        self.noise_server = self.create_service(SetNoise, f'{self.noise_type}/set_noise', self.set_noise_callback)\n",
    "        \n",
    "        # Timer\n",
    "        self.timer = self.create_timer(self.noise_rate, callback=self.timer_callback)"
   ]
  },
  {
   "cell_type": "markdown",
   "metadata": {},
   "source": [
    "5.ประกาศตัวแปรไว้สำหรับเก็บค่า mean variance และ data ของ noise\n",
    "\n",
    "        # additional attributes\n",
    "        # variables\n",
    "        self.noise_data = 0.0\n",
    "        self.mean = 0.0\n",
    "        self.variance = 1.0"
   ]
  },
  {
   "cell_type": "markdown",
   "metadata": {},
   "source": [
    "6.ประกาศ function ที่ใช้ในการ handle กับ service /set_noise โดยจะทำการนำค่าที่ได้จาก srv มาเก็บไว้ในตัวแปร mean และ variance โดยจะต้องมีการ return response เสมอในการใช้งาน service\n",
    "\n",
    "    def set_noise_callback(self,request:SetNoise.Request,response:SetNoise.Response):\n",
    "        # SetNoise.srv\n",
    "        # request = float64 mean , float64 variance\n",
    "        # response = None\n",
    "        self.mean = request.mean.data\n",
    "        self.variance = request.variance.data\n",
    "        return response # return response to the client"
   ]
  }
 ],
 "metadata": {
  "kernelspec": {
   "display_name": "Python 3.8.10 64-bit",
   "language": "python",
   "name": "python3"
  },
  "language_info": {
   "codemirror_mode": {
    "name": "ipython",
    "version": 3
   },
   "file_extension": ".py",
   "mimetype": "text/x-python",
   "name": "python",
   "nbconvert_exporter": "python",
   "pygments_lexer": "ipython3",
   "version": "3.8.10"
  },
  "orig_nbformat": 4,
  "vscode": {
   "interpreter": {
    "hash": "916dbcbb3f70747c44a77c7bcd40155683ae19c65e1c03b4aa3499c5328201f1"
   }
  }
 },
 "nbformat": 4,
 "nbformat_minor": 2
}
