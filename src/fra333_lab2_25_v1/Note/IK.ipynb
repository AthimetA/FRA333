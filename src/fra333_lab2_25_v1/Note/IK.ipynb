{
 "cells": [
  {
   "cell_type": "code",
   "execution_count": 174,
   "metadata": {},
   "outputs": [],
   "source": [
    "import sympy as sp\n",
    "import numpy as np\n",
    "\n",
    "x = sp.Symbol(\"x\", positive = True)\n",
    "y = sp.Symbol(\"y\", positive = True)\n",
    "z = sp.Symbol(\"z\", positive = True)\n",
    "l1 = sp.Symbol(\"l1\", positive = True)\n",
    "l2 = sp.Symbol(\"l2\", positive = True)\n",
    "l3 = sp.Symbol(\"l3\", positive = True)\n",
    "l4 = sp.Symbol(\"l4\", positive = True)\n",
    "l5 = sp.Symbol(\"l5\", positive = True)\n",
    "l6 = sp.Symbol(\"l6\", positive = True)\n",
    "q1 = sp.Symbol(\"q1\", positive = True)\n",
    "q2 = sp.Symbol(\"q2\", positive = True)\n",
    "q3 = sp.Symbol(\"q3\", positive = True)\n",
    "q4 = sp.Symbol(\"q4\", positive = True)\n",
    "\n",
    "phi = sp.Symbol(\"phi\", positive = True)\n",
    "pie = sp.Symbol(\"pi\", positive = True)\n",
    "\n",
    "r1 = sp.Symbol(\"r1\", positive = True)\n",
    "r2 = sp.Symbol(\"r2\", positive = True)"
   ]
  },
  {
   "cell_type": "code",
   "execution_count": 175,
   "metadata": {},
   "outputs": [],
   "source": [
    "s23 = sp.sin(q2) * sp.cos(q3) + sp.sin(q3) * sp.cos(q2)"
   ]
  },
  {
   "cell_type": "code",
   "execution_count": 176,
   "metadata": {},
   "outputs": [],
   "source": [
    "c23 = sp.cos(q2) * sp.cos(q3) - sp.sin(q2) * sp.sin(q3)"
   ]
  },
  {
   "cell_type": "code",
   "execution_count": 177,
   "metadata": {},
   "outputs": [],
   "source": [
    "z1 = l1 + l2* sp.cos(q2) + ((l3-l5)* c23) + ((l4+l6+q4) * s23)\n",
    "z2 = -l2* sp.sin(q2) + ((-l3+l5)* s23) + ((l4+l6+q4) * c23)"
   ]
  },
  {
   "cell_type": "code",
   "execution_count": 181,
   "metadata": {},
   "outputs": [
    {
     "data": {
      "text/latex": [
       "$\\displaystyle \\frac{\\left(l_{1} + l_{2} \\cos{\\left(q_{2} \\right)} + \\left(l_{3} - l_{5}\\right) \\cos{\\left(q_{2} + q_{3} \\right)} + \\left(l_{4} + l_{6} + q_{4}\\right) \\sin{\\left(q_{2} + q_{3} \\right)}\\right)^{2}}{\\left(- l_{2} \\sin{\\left(q_{2} \\right)} + \\left(- l_{3} + l_{5}\\right) \\sin{\\left(q_{2} + q_{3} \\right)} + \\left(l_{4} + l_{6} + q_{4}\\right) \\cos{\\left(q_{2} + q_{3} \\right)}\\right)^{2}}$"
      ],
      "text/plain": [
       "(l1 + l2*cos(q2) + (l3 - l5)*cos(q2 + q3) + (l4 + l6 + q4)*sin(q2 + q3))**2/(-l2*sin(q2) + (-l3 + l5)*sin(q2 + q3) + (l4 + l6 + q4)*cos(q2 + q3))**2"
      ]
     },
     "execution_count": 181,
     "metadata": {},
     "output_type": "execute_result"
    }
   ],
   "source": [
    "An1 = z1**2 / z2**2\n",
    "An1 = An1.trigsimp()\n",
    "An1"
   ]
  },
  {
   "cell_type": "code",
   "execution_count": 179,
   "metadata": {},
   "outputs": [],
   "source": [
    "A2 = -l2*sp.sin(q2) + l3 * sp.cos(q2+q3)\n",
    "A3 = l2*sp.cos(q2) + l3 * sp.sin(q2+q3)"
   ]
  },
  {
   "cell_type": "code",
   "execution_count": 180,
   "metadata": {},
   "outputs": [
    {
     "data": {
      "text/latex": [
       "$\\displaystyle l_{2}^{2} + 2 l_{2} l_{3} \\sin{\\left(q_{3} \\right)} + l_{3}^{2}$"
      ],
      "text/plain": [
       "l2**2 + 2*l2*l3*sin(q3) + l3**2"
      ]
     },
     "execution_count": 180,
     "metadata": {},
     "output_type": "execute_result"
    }
   ],
   "source": [
    "An2 = A2**2 + A3**2\n",
    "An2 = An2.trigsimp()\n",
    "An2"
   ]
  }
 ],
 "metadata": {
  "kernelspec": {
   "display_name": "Python 3.8.10 64-bit",
   "language": "python",
   "name": "python3"
  },
  "language_info": {
   "codemirror_mode": {
    "name": "ipython",
    "version": 3
   },
   "file_extension": ".py",
   "mimetype": "text/x-python",
   "name": "python",
   "nbconvert_exporter": "python",
   "pygments_lexer": "ipython3",
   "version": "3.8.10"
  },
  "orig_nbformat": 4,
  "vscode": {
   "interpreter": {
    "hash": "916dbcbb3f70747c44a77c7bcd40155683ae19c65e1c03b4aa3499c5328201f1"
   }
  }
 },
 "nbformat": 4,
 "nbformat_minor": 2
}
