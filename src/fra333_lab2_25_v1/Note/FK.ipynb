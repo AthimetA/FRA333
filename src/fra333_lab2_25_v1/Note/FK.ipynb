{
 "cells": [
  {
   "cell_type": "code",
   "execution_count": 315,
   "metadata": {},
   "outputs": [
    {
     "data": {
      "text/latex": [
       "$\\displaystyle \\left[\\begin{matrix}1 & 0 & 0 & 0\\\\0 & 1 & 0 & 0\\\\0 & 0 & 1 & 0\\\\0 & 0 & 0 & 1\\end{matrix}\\right]$"
      ],
      "text/plain": [
       "Matrix([\n",
       "[1, 0, 0, 0],\n",
       "[0, 1, 0, 0],\n",
       "[0, 0, 1, 0],\n",
       "[0, 0, 0, 1]])"
      ]
     },
     "execution_count": 315,
     "metadata": {},
     "output_type": "execute_result"
    }
   ],
   "source": [
    "import sympy as sp\n",
    "\n",
    "x = sp.Symbol(\"x\", positive = True)\n",
    "y = sp.Symbol(\"y\", positive = True)\n",
    "z = sp.Symbol(\"z\", positive = True)\n",
    "l1 = sp.Symbol(\"l1\", positive = True)\n",
    "l2 = sp.Symbol(\"l2\", positive = True)\n",
    "l3 = sp.Symbol(\"l3\", positive = True)\n",
    "l4 = sp.Symbol(\"l4\", positive = True)\n",
    "l5 = sp.Symbol(\"l5\", positive = True)\n",
    "l6 = sp.Symbol(\"l6\", positive = True)\n",
    "q1 = sp.Symbol(\"q1\", positive = True)\n",
    "q2 = sp.Symbol(\"q2\", positive = True)\n",
    "q3 = sp.Symbol(\"q3\", positive = True)\n",
    "q4 = sp.Symbol(\"q4\", positive = True)\n",
    "\n",
    "phi = sp.Symbol(\"phi\", positive = True)\n",
    "pie = sp.Symbol(\"pi\", positive = True)\n",
    "\n",
    "H  = sp.Matrix([[1, 0, 0, 0], [0, 1, 0, 0], [0, 0, 1, 0], [0, 0, 0, 1]])\n",
    "H"
   ]
  },
  {
   "cell_type": "code",
   "execution_count": 316,
   "metadata": {},
   "outputs": [],
   "source": [
    "def translateX(x):\n",
    "    return sp.Matrix([[1, 0, 0, x], [0, 1, 0, 0], [0, 0, 1, 0], [0, 0, 0, 1]])\n",
    "\n",
    "def translateZ(z):\n",
    "    return sp.Matrix([[1, 0, 0, 0], [0, 1, 0, 0], [0, 0, 1, z], [0, 0, 0, 1]])\n",
    "\n",
    "def rotateX(theta):\n",
    "    return sp.Matrix([[1, 0, 0, 0], [0, sp.cos(theta), -sp.sin(theta), 0], [0, sp.sin(theta), sp.cos(theta), 0], [0, 0, 0, 1]])\n",
    "\n",
    "def rotateZ(theta):\n",
    "    return sp.Matrix([[sp.cos(theta), -sp.sin(theta), 0, 0], [sp.sin(theta), sp.cos(theta), 0, 0], [0, 0, 1, 0], [0, 0, 0, 1]])"
   ]
  },
  {
   "cell_type": "code",
   "execution_count": 317,
   "metadata": {},
   "outputs": [
    {
     "data": {
      "text/latex": [
       "$\\displaystyle \\left[\\begin{matrix}\\cos{\\left(q_{1} \\right)} & - \\sin{\\left(q_{1} \\right)} & 0 & 0\\\\\\sin{\\left(q_{1} \\right)} & \\cos{\\left(q_{1} \\right)} & 0 & 0\\\\0 & 0 & 1 & l_{1}\\\\0 & 0 & 0 & 1\\end{matrix}\\right]$"
      ],
      "text/plain": [
       "Matrix([\n",
       "[cos(q1), -sin(q1), 0,  0],\n",
       "[sin(q1),  cos(q1), 0,  0],\n",
       "[      0,        0, 1, l1],\n",
       "[      0,        0, 0,  1]])"
      ]
     },
     "execution_count": 317,
     "metadata": {},
     "output_type": "execute_result"
    }
   ],
   "source": [
    "# Frame 0 to 1\n",
    "H = H * translateX(0) * rotateX(0) * translateZ(l1) * rotateZ(0) * rotateZ(q1) \n",
    "sp.trigsimp(H)"
   ]
  },
  {
   "cell_type": "code",
   "execution_count": 318,
   "metadata": {},
   "outputs": [
    {
     "data": {
      "text/latex": [
       "$\\displaystyle \\left[\\begin{matrix}- \\sin{\\left(q_{2} \\right)} \\cos{\\left(q_{1} \\right)} & - \\cos{\\left(q_{1} \\right)} \\cos{\\left(q_{2} \\right)} & \\sin{\\left(q_{1} \\right)} & 0\\\\- \\sin{\\left(q_{1} \\right)} \\sin{\\left(q_{2} \\right)} & - \\sin{\\left(q_{1} \\right)} \\cos{\\left(q_{2} \\right)} & - \\cos{\\left(q_{1} \\right)} & 0\\\\\\cos{\\left(q_{2} \\right)} & - \\sin{\\left(q_{2} \\right)} & 0 & l_{1}\\\\0 & 0 & 0 & 1\\end{matrix}\\right]$"
      ],
      "text/plain": [
       "Matrix([\n",
       "[-sin(q2)*cos(q1), -cos(q1)*cos(q2),  sin(q1),  0],\n",
       "[-sin(q1)*sin(q2), -sin(q1)*cos(q2), -cos(q1),  0],\n",
       "[         cos(q2),         -sin(q2),        0, l1],\n",
       "[               0,                0,        0,  1]])"
      ]
     },
     "execution_count": 318,
     "metadata": {},
     "output_type": "execute_result"
    }
   ],
   "source": [
    "# Frame 1 to 2\n",
    "H = H * translateX(0) * rotateX(sp.pi/2) * translateZ(0) * rotateZ(sp.pi/2) * rotateZ(q2)\n",
    "sp.trigsimp(H)"
   ]
  },
  {
   "cell_type": "code",
   "execution_count": 319,
   "metadata": {},
   "outputs": [
    {
     "data": {
      "text/latex": [
       "$\\displaystyle \\left[\\begin{matrix}- \\sin{\\left(q_{2} + q_{3} \\right)} \\cos{\\left(q_{1} \\right)} & - \\cos{\\left(q_{1} \\right)} \\cos{\\left(q_{2} + q_{3} \\right)} & \\sin{\\left(q_{1} \\right)} & - l_{2} \\sin{\\left(q_{2} \\right)} \\cos{\\left(q_{1} \\right)}\\\\- \\sin{\\left(q_{1} \\right)} \\sin{\\left(q_{2} + q_{3} \\right)} & - \\sin{\\left(q_{1} \\right)} \\cos{\\left(q_{2} + q_{3} \\right)} & - \\cos{\\left(q_{1} \\right)} & - l_{2} \\sin{\\left(q_{1} \\right)} \\sin{\\left(q_{2} \\right)}\\\\\\cos{\\left(q_{2} + q_{3} \\right)} & - \\sin{\\left(q_{2} + q_{3} \\right)} & 0 & l_{1} + l_{2} \\cos{\\left(q_{2} \\right)}\\\\0 & 0 & 0 & 1\\end{matrix}\\right]$"
      ],
      "text/plain": [
       "Matrix([\n",
       "[-sin(q2 + q3)*cos(q1), -cos(q1)*cos(q2 + q3),  sin(q1), -l2*sin(q2)*cos(q1)],\n",
       "[-sin(q1)*sin(q2 + q3), -sin(q1)*cos(q2 + q3), -cos(q1), -l2*sin(q1)*sin(q2)],\n",
       "[         cos(q2 + q3),         -sin(q2 + q3),        0,     l1 + l2*cos(q2)],\n",
       "[                    0,                     0,        0,                   1]])"
      ]
     },
     "execution_count": 319,
     "metadata": {},
     "output_type": "execute_result"
    }
   ],
   "source": [
    "# Frame 2 to 3\n",
    "H = H * translateX(l2) * rotateX(0) * translateZ(0) * rotateZ(0) * rotateZ(q3)\n",
    "sp.trigsimp(H)"
   ]
  },
  {
   "cell_type": "code",
   "execution_count": 320,
   "metadata": {},
   "outputs": [
    {
     "data": {
      "text/latex": [
       "$\\displaystyle \\left[\\begin{matrix}- \\sin{\\left(q_{2} + q_{3} \\right)} \\cos{\\left(q_{1} \\right)} & \\sin{\\left(q_{1} \\right)} & \\cos{\\left(q_{1} \\right)} \\cos{\\left(q_{2} + q_{3} \\right)} & \\left(- l_{2} \\sin{\\left(q_{2} \\right)} - l_{3} \\sin{\\left(q_{2} + q_{3} \\right)} + l_{4} \\cos{\\left(q_{2} + q_{3} \\right)} + q_{4} \\cos{\\left(q_{2} + q_{3} \\right)}\\right) \\cos{\\left(q_{1} \\right)}\\\\- \\sin{\\left(q_{1} \\right)} \\sin{\\left(q_{2} + q_{3} \\right)} & - \\cos{\\left(q_{1} \\right)} & \\sin{\\left(q_{1} \\right)} \\cos{\\left(q_{2} + q_{3} \\right)} & \\left(- l_{2} \\sin{\\left(q_{2} \\right)} - l_{3} \\sin{\\left(q_{2} + q_{3} \\right)} + l_{4} \\cos{\\left(q_{2} + q_{3} \\right)} + q_{4} \\cos{\\left(q_{2} + q_{3} \\right)}\\right) \\sin{\\left(q_{1} \\right)}\\\\\\cos{\\left(q_{2} + q_{3} \\right)} & 0 & \\sin{\\left(q_{2} + q_{3} \\right)} & l_{1} + l_{2} \\cos{\\left(q_{2} \\right)} + l_{3} \\cos{\\left(q_{2} + q_{3} \\right)} + l_{4} \\sin{\\left(q_{2} + q_{3} \\right)} + q_{4} \\sin{\\left(q_{2} + q_{3} \\right)}\\\\0 & 0 & 0 & 1\\end{matrix}\\right]$"
      ],
      "text/plain": [
       "Matrix([\n",
       "[-sin(q2 + q3)*cos(q1),  sin(q1), cos(q1)*cos(q2 + q3), (-l2*sin(q2) - l3*sin(q2 + q3) + l4*cos(q2 + q3) + q4*cos(q2 + q3))*cos(q1)],\n",
       "[-sin(q1)*sin(q2 + q3), -cos(q1), sin(q1)*cos(q2 + q3), (-l2*sin(q2) - l3*sin(q2 + q3) + l4*cos(q2 + q3) + q4*cos(q2 + q3))*sin(q1)],\n",
       "[         cos(q2 + q3),        0,         sin(q2 + q3),       l1 + l2*cos(q2) + l3*cos(q2 + q3) + l4*sin(q2 + q3) + q4*sin(q2 + q3)],\n",
       "[                    0,        0,                    0,                                                                           1]])"
      ]
     },
     "execution_count": 320,
     "metadata": {},
     "output_type": "execute_result"
    }
   ],
   "source": [
    "# Frame 3 to 4\n",
    "H = H * translateX(l3) * rotateX(sp.pi/2) * translateZ(l4) * rotateZ(0) * translateZ(q4)\n",
    "# H = H * translateX(l3) * rotateX(sp.pi/2) * translateZ(0) * rotateZ(0) * translateZ(l4+q4)\n",
    "sp.trigsimp(H)"
   ]
  },
  {
   "cell_type": "code",
   "execution_count": 321,
   "metadata": {},
   "outputs": [
    {
     "data": {
      "text/latex": [
       "$\\displaystyle \\left[\\begin{matrix}\\cos{\\left(q_{1} \\right)} \\cos{\\left(q_{2} + q_{3} \\right)} & - \\sin{\\left(q_{1} \\right)} & - \\sin{\\left(q_{2} + q_{3} \\right)} \\cos{\\left(q_{1} \\right)} & \\left(- l_{2} \\sin{\\left(q_{2} \\right)} - l_{3} \\sin{\\left(q_{2} + q_{3} \\right)} + l_{4} \\cos{\\left(q_{2} + q_{3} \\right)} + l_{5} \\sin{\\left(q_{2} + q_{3} \\right)} + l_{6} \\cos{\\left(q_{2} + q_{3} \\right)} + q_{4} \\cos{\\left(q_{2} + q_{3} \\right)}\\right) \\cos{\\left(q_{1} \\right)}\\\\\\sin{\\left(q_{1} \\right)} \\cos{\\left(q_{2} + q_{3} \\right)} & \\cos{\\left(q_{1} \\right)} & - \\sin{\\left(q_{1} \\right)} \\sin{\\left(q_{2} + q_{3} \\right)} & \\left(- l_{2} \\sin{\\left(q_{2} \\right)} - l_{3} \\sin{\\left(q_{2} + q_{3} \\right)} + l_{4} \\cos{\\left(q_{2} + q_{3} \\right)} + l_{5} \\sin{\\left(q_{2} + q_{3} \\right)} + l_{6} \\cos{\\left(q_{2} + q_{3} \\right)} + q_{4} \\cos{\\left(q_{2} + q_{3} \\right)}\\right) \\sin{\\left(q_{1} \\right)}\\\\\\sin{\\left(q_{2} + q_{3} \\right)} & 0 & \\cos{\\left(q_{2} + q_{3} \\right)} & l_{1} + l_{2} \\cos{\\left(q_{2} \\right)} + l_{3} \\cos{\\left(q_{2} + q_{3} \\right)} + l_{4} \\sin{\\left(q_{2} + q_{3} \\right)} - l_{5} \\cos{\\left(q_{2} + q_{3} \\right)} + l_{6} \\sin{\\left(q_{2} + q_{3} \\right)} + q_{4} \\sin{\\left(q_{2} + q_{3} \\right)}\\\\0 & 0 & 0 & 1\\end{matrix}\\right]$"
      ],
      "text/plain": [
       "Matrix([\n",
       "[cos(q1)*cos(q2 + q3), -sin(q1), -sin(q2 + q3)*cos(q1), (-l2*sin(q2) - l3*sin(q2 + q3) + l4*cos(q2 + q3) + l5*sin(q2 + q3) + l6*cos(q2 + q3) + q4*cos(q2 + q3))*cos(q1)],\n",
       "[sin(q1)*cos(q2 + q3),  cos(q1), -sin(q1)*sin(q2 + q3), (-l2*sin(q2) - l3*sin(q2 + q3) + l4*cos(q2 + q3) + l5*sin(q2 + q3) + l6*cos(q2 + q3) + q4*cos(q2 + q3))*sin(q1)],\n",
       "[        sin(q2 + q3),        0,          cos(q2 + q3),       l1 + l2*cos(q2) + l3*cos(q2 + q3) + l4*sin(q2 + q3) - l5*cos(q2 + q3) + l6*sin(q2 + q3) + q4*sin(q2 + q3)],\n",
       "[                   0,        0,                     0,                                                                                                               1]])"
      ]
     },
     "execution_count": 321,
     "metadata": {},
     "output_type": "execute_result"
    }
   ],
   "source": [
    "H4e = sp.Matrix([[0, 0, 1, -l5],\n",
    "                 [0, -1, 0, 0],\n",
    "                 [1, 0, 0, l6],\n",
    "                 [0, 0, 0, 1]])\n",
    "He = H * H4e\n",
    "sp.trigsimp(He)"
   ]
  },
  {
   "cell_type": "code",
   "execution_count": 322,
   "metadata": {},
   "outputs": [
    {
     "data": {
      "text/latex": [
       "$\\displaystyle \\left[\\begin{matrix}\\left(- l_{2} \\sin{\\left(q_{2} \\right)} - l_{3} \\sin{\\left(q_{2} + q_{3} \\right)} + l_{4} \\cos{\\left(q_{2} + q_{3} \\right)} + l_{5} \\sin{\\left(q_{2} + q_{3} \\right)} + l_{6} \\cos{\\left(q_{2} + q_{3} \\right)} + q_{4} \\cos{\\left(q_{2} + q_{3} \\right)}\\right) \\cos{\\left(q_{1} \\right)}\\\\\\left(- l_{2} \\sin{\\left(q_{2} \\right)} - l_{3} \\sin{\\left(q_{2} + q_{3} \\right)} + l_{4} \\cos{\\left(q_{2} + q_{3} \\right)} + l_{5} \\sin{\\left(q_{2} + q_{3} \\right)} + l_{6} \\cos{\\left(q_{2} + q_{3} \\right)} + q_{4} \\cos{\\left(q_{2} + q_{3} \\right)}\\right) \\sin{\\left(q_{1} \\right)}\\\\l_{1} + l_{2} \\cos{\\left(q_{2} \\right)} + l_{3} \\cos{\\left(q_{2} + q_{3} \\right)} + l_{4} \\sin{\\left(q_{2} + q_{3} \\right)} - l_{5} \\cos{\\left(q_{2} + q_{3} \\right)} + l_{6} \\sin{\\left(q_{2} + q_{3} \\right)} + q_{4} \\sin{\\left(q_{2} + q_{3} \\right)}\\end{matrix}\\right]$"
      ],
      "text/plain": [
       "Matrix([\n",
       "[(-l2*sin(q2) - l3*sin(q2 + q3) + l4*cos(q2 + q3) + l5*sin(q2 + q3) + l6*cos(q2 + q3) + q4*cos(q2 + q3))*cos(q1)],\n",
       "[(-l2*sin(q2) - l3*sin(q2 + q3) + l4*cos(q2 + q3) + l5*sin(q2 + q3) + l6*cos(q2 + q3) + q4*cos(q2 + q3))*sin(q1)],\n",
       "[      l1 + l2*cos(q2) + l3*cos(q2 + q3) + l4*sin(q2 + q3) - l5*cos(q2 + q3) + l6*sin(q2 + q3) + q4*sin(q2 + q3)]])"
      ]
     },
     "execution_count": 322,
     "metadata": {},
     "output_type": "execute_result"
    }
   ],
   "source": [
    "P = sp.trigsimp(He.col(3).row([0,1,2]))\n",
    "P"
   ]
  },
  {
   "cell_type": "code",
   "execution_count": 331,
   "metadata": {},
   "outputs": [
    {
     "data": {
      "text/latex": [
       "$\\displaystyle \\left[\\begin{matrix}1 & 0 & 0 & 0\\\\0 & \\cos{\\left(q_{1} \\right)} & - \\sin{\\left(q_{1} \\right)} & 0\\\\0 & \\sin{\\left(q_{1} \\right)} & \\cos{\\left(q_{1} \\right)} & 0\\\\0 & 0 & 0 & 1\\end{matrix}\\right]$"
      ],
      "text/plain": [
       "Matrix([\n",
       "[1,       0,        0, 0],\n",
       "[0, cos(q1), -sin(q1), 0],\n",
       "[0, sin(q1),  cos(q1), 0],\n",
       "[0,       0,        0, 1]])"
      ]
     },
     "execution_count": 331,
     "metadata": {},
     "output_type": "execute_result"
    }
   ],
   "source": [
    "rotateX(q1)"
   ]
  },
  {
   "cell_type": "code",
   "execution_count": 333,
   "metadata": {},
   "outputs": [
    {
     "data": {
      "text/latex": [
       "$\\displaystyle \\left[\\begin{matrix}1 & 0 & 0 & 0\\\\0 & 1 & 0 & 0\\\\0 & 0 & 1 & q_{1}\\\\0 & 0 & 0 & 1\\end{matrix}\\right]$"
      ],
      "text/plain": [
       "Matrix([\n",
       "[1, 0, 0,  0],\n",
       "[0, 1, 0,  0],\n",
       "[0, 0, 1, q1],\n",
       "[0, 0, 0,  1]])"
      ]
     },
     "execution_count": 333,
     "metadata": {},
     "output_type": "execute_result"
    }
   ],
   "source": [
    "translateZ(q1)"
   ]
  }
 ],
 "metadata": {
  "kernelspec": {
   "display_name": "Python 3.8.10 64-bit",
   "language": "python",
   "name": "python3"
  },
  "language_info": {
   "codemirror_mode": {
    "name": "ipython",
    "version": 3
   },
   "file_extension": ".py",
   "mimetype": "text/x-python",
   "name": "python",
   "nbconvert_exporter": "python",
   "pygments_lexer": "ipython3",
   "version": "3.8.10"
  },
  "orig_nbformat": 4,
  "vscode": {
   "interpreter": {
    "hash": "916dbcbb3f70747c44a77c7bcd40155683ae19c65e1c03b4aa3499c5328201f1"
   }
  }
 },
 "nbformat": 4,
 "nbformat_minor": 2
}
