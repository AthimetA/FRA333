{
 "cells": [
  {
   "cell_type": "code",
   "execution_count": 87,
   "metadata": {},
   "outputs": [],
   "source": [
    "import sympy as sp\n",
    "\n",
    "x = sp.Symbol(\"x\", positive = True)\n",
    "y = sp.Symbol(\"y\", positive = True)\n",
    "z = sp.Symbol(\"z\", positive = True)\n",
    "l1 = sp.Symbol(\"l1\", positive = True)\n",
    "l2 = sp.Symbol(\"l2\", positive = True)\n",
    "l3 = sp.Symbol(\"l3\", positive = True)\n",
    "l4 = sp.Symbol(\"l4\", positive = True)\n",
    "l5 = sp.Symbol(\"l5\", positive = True)\n",
    "l6 = sp.Symbol(\"l6\", positive = True)\n",
    "q1 = sp.Symbol(\"q1\", positive = True)\n",
    "q2 = sp.Symbol(\"q2\", positive = True)\n",
    "q3 = sp.Symbol(\"q3\", positive = True)\n",
    "q4 = sp.Symbol(\"q4\", positive = True)\n",
    "\n",
    "phi = sp.Symbol(\"phi\", positive = True)\n",
    "pie = sp.Symbol(\"pi\", positive = True)"
   ]
  },
  {
   "cell_type": "code",
   "execution_count": 88,
   "metadata": {},
   "outputs": [],
   "source": [
    "def translateX(x):\n",
    "    return sp.Matrix([[1, 0, 0, x], [0, 1, 0, 0], [0, 0, 1, 0], [0, 0, 0, 1]])\n",
    "\n",
    "def translateZ(z):\n",
    "    return sp.Matrix([[1, 0, 0, 0], [0, 1, 0, 0], [0, 0, 1, z], [0, 0, 0, 1]])\n",
    "\n",
    "def rotateX(theta):\n",
    "    return sp.Matrix([[1, 0, 0, 0], [0, sp.cos(theta), -sp.sin(theta), 0], [0, sp.sin(theta), sp.cos(theta), 0], [0, 0, 0, 1]])\n",
    "\n",
    "def rotateZ(theta):\n",
    "    return sp.Matrix([[sp.cos(theta), -sp.sin(theta), 0, 0], [sp.sin(theta), sp.cos(theta), 0, 0], [0, 0, 1, 0], [0, 0, 0, 1]])\n",
    "\n",
    "def rotateY(theta):\n",
    "    return sp.Matrix([[sp.cos(theta), 0, sp.sin(theta), 0], [0, 1, 0, 0], [-sp.sin(theta), 0, sp.cos(theta), 0], [0, 0, 0, 1]])"
   ]
  },
  {
   "cell_type": "code",
   "execution_count": 89,
   "metadata": {},
   "outputs": [
    {
     "data": {
      "text/latex": [
       "$\\displaystyle \\left[\\begin{matrix}0 & 0 & l_{1} & 0 & 0\\\\0 & \\frac{\\pi}{2} & 0 & \\frac{\\pi}{2} & 0\\\\l_{2} & 0 & 0 & - \\frac{\\pi}{2} & 0\\\\l_{3} & 0 & 0 & 0 & 0\\end{matrix}\\right]$"
      ],
      "text/plain": [
       "Matrix([\n",
       "[ 0,    0, l1,     0, 0],\n",
       "[ 0, pi/2,  0,  pi/2, 0],\n",
       "[l2,    0,  0, -pi/2, 0],\n",
       "[l3,    0,  0,     0, 0]])"
      ]
     },
     "execution_count": 89,
     "metadata": {},
     "output_type": "execute_result"
    }
   ],
   "source": [
    "DH = sp.Matrix([[0, 0, l1, 0, 0],\n",
    "                [0, sp.pi/2, 0, sp.pi/2, 0],\n",
    "                [l2, 0, 0, -sp.pi/2, 0],\n",
    "                [l3, 0, 0, 0,0]])\n",
    "DH"
   ]
  },
  {
   "cell_type": "code",
   "execution_count": 90,
   "metadata": {},
   "outputs": [
    {
     "data": {
      "text/latex": [
       "$\\displaystyle \\left[\\begin{matrix}\\cos{\\left(q_{1} \\right)} \\cos{\\left(q_{2} + q_{3} + q_{4} \\right)} & - \\sin{\\left(q_{2} + q_{3} + q_{4} \\right)} \\cos{\\left(q_{1} \\right)} & \\sin{\\left(q_{1} \\right)} & \\left(- l_{2} \\sin{\\left(q_{2} \\right)} + l_{3} \\cos{\\left(q_{2} + q_{3} \\right)}\\right) \\cos{\\left(q_{1} \\right)}\\\\\\sin{\\left(q_{1} \\right)} \\cos{\\left(q_{2} + q_{3} + q_{4} \\right)} & - \\sin{\\left(q_{1} \\right)} \\sin{\\left(q_{2} + q_{3} + q_{4} \\right)} & - \\cos{\\left(q_{1} \\right)} & \\left(- l_{2} \\sin{\\left(q_{2} \\right)} + l_{3} \\cos{\\left(q_{2} + q_{3} \\right)}\\right) \\sin{\\left(q_{1} \\right)}\\\\\\sin{\\left(q_{2} + q_{3} + q_{4} \\right)} & \\cos{\\left(q_{2} + q_{3} + q_{4} \\right)} & 0 & l_{1} + l_{2} \\cos{\\left(q_{2} \\right)} + l_{3} \\sin{\\left(q_{2} + q_{3} \\right)}\\\\0 & 0 & 0 & 1\\end{matrix}\\right]$"
      ],
      "text/plain": [
       "Matrix([\n",
       "[cos(q1)*cos(q2 + q3 + q4), -sin(q2 + q3 + q4)*cos(q1),  sin(q1), (-l2*sin(q2) + l3*cos(q2 + q3))*cos(q1)],\n",
       "[sin(q1)*cos(q2 + q3 + q4), -sin(q1)*sin(q2 + q3 + q4), -cos(q1), (-l2*sin(q2) + l3*cos(q2 + q3))*sin(q1)],\n",
       "[        sin(q2 + q3 + q4),          cos(q2 + q3 + q4),        0,       l1 + l2*cos(q2) + l3*sin(q2 + q3)],\n",
       "[                        0,                          0,        0,                                       1]])"
      ]
     },
     "execution_count": 90,
     "metadata": {},
     "output_type": "execute_result"
    }
   ],
   "source": [
    "H  = sp.Matrix([[1, 0, 0, 0], [0, 1, 0, 0], [0, 0, 1, 0], [0, 0, 0, 1]])\n",
    "q = [q1,q2,q3,q4]\n",
    "for i in range(DH.shape[0]):\n",
    "    if DH[i, 4] == 0:\n",
    "        Hj = rotateZ(q[i])\n",
    "    elif DH[i, 4] == 1:\n",
    "        Hj = translateZ(q[i])\n",
    "    else:\n",
    "        Hj = sp.Matrix([[1, 0, 0, 0], [0, 1, 0, 0], [0, 0, 1, 0], [0, 0, 0, 1]])\n",
    "    H = H * translateX(DH[i, 0]) * rotateX(DH[i, 1]) * translateZ(DH[i, 2]) * rotateZ(DH[i, 3]) * Hj\n",
    "H = sp.trigsimp(H)\n",
    "H\n"
   ]
  },
  {
   "cell_type": "code",
   "execution_count": 91,
   "metadata": {},
   "outputs": [],
   "source": [
    "H4e = sp.Matrix([[1, 0, 0, l4],\n",
    "                 [0, 0, 1, 0],\n",
    "                 [0, -1, 0, 0],\n",
    "                 [0, 0, 0, 1]])\n",
    "He = H * H4e\n",
    "He = sp.trigsimp(He)"
   ]
  },
  {
   "cell_type": "code",
   "execution_count": 92,
   "metadata": {},
   "outputs": [
    {
     "data": {
      "text/latex": [
       "$\\displaystyle \\left[\\begin{matrix}\\left(- l_{2} \\sin{\\left(q_{2} \\right)} + l_{3} \\cos{\\left(q_{2} + q_{3} \\right)} + l_{4} \\cos{\\left(q_{2} + q_{3} + q_{4} \\right)}\\right) \\cos{\\left(q_{1} \\right)}\\\\\\left(- l_{2} \\sin{\\left(q_{2} \\right)} + l_{3} \\cos{\\left(q_{2} + q_{3} \\right)} + l_{4} \\cos{\\left(q_{2} + q_{3} + q_{4} \\right)}\\right) \\sin{\\left(q_{1} \\right)}\\\\l_{1} + l_{2} \\cos{\\left(q_{2} \\right)} + l_{3} \\sin{\\left(q_{2} + q_{3} \\right)} + l_{4} \\sin{\\left(q_{2} + q_{3} + q_{4} \\right)}\\end{matrix}\\right]$"
      ],
      "text/plain": [
       "Matrix([\n",
       "[(-l2*sin(q2) + l3*cos(q2 + q3) + l4*cos(q2 + q3 + q4))*cos(q1)],\n",
       "[(-l2*sin(q2) + l3*cos(q2 + q3) + l4*cos(q2 + q3 + q4))*sin(q1)],\n",
       "[      l1 + l2*cos(q2) + l3*sin(q2 + q3) + l4*sin(q2 + q3 + q4)]])"
      ]
     },
     "execution_count": 92,
     "metadata": {},
     "output_type": "execute_result"
    }
   ],
   "source": [
    "P = sp.trigsimp(He.col(3).row([0,1,2]))\n",
    "P"
   ]
  },
  {
   "cell_type": "code",
   "execution_count": 93,
   "metadata": {},
   "outputs": [
    {
     "data": {
      "text/latex": [
       "$\\displaystyle \\left[\\begin{matrix}- l_{2} - l_{3} \\sin{\\left(q_{3} \\right)} & l_{3} \\cos{\\left(q_{3} \\right)}\\\\l_{3} \\cos{\\left(q_{3} \\right)} & l_{2} + l_{3} \\sin{\\left(q_{3} \\right)}\\end{matrix}\\right]$"
      ],
      "text/plain": [
       "Matrix([\n",
       "[-l2 - l3*sin(q3),      l3*cos(q3)],\n",
       "[      l3*cos(q3), l2 + l3*sin(q3)]])"
      ]
     },
     "execution_count": 93,
     "metadata": {},
     "output_type": "execute_result"
    }
   ],
   "source": [
    "A2 = sp.Symbol(\"A2\", positive = True)\n",
    "A3 = sp.Symbol(\"A3\", positive = True)\n",
    "\n",
    "A = sp.Matrix([[A2],[A3]])\n",
    "S = sp.Matrix([[sp.sin(q2)],[sp.cos(q2)]])\n",
    "L = sp.Matrix([[-l2-(l3*sp.sin(q3)) , l3*sp.cos(q3)],[l3*sp.cos(q3), l2+(l3*sp.sin(q3))]])\n",
    "invL = L.inv()\n",
    "L"
   ]
  },
  {
   "cell_type": "code",
   "execution_count": 94,
   "metadata": {},
   "outputs": [
    {
     "data": {
      "text/latex": [
       "$\\displaystyle \\left[\\begin{matrix}\\frac{- A_{2} \\left(l_{2} + l_{3} \\sin{\\left(q_{3} \\right)}\\right) + A_{3} l_{3} \\cos{\\left(q_{3} \\right)}}{l_{2}^{2} + 2 l_{2} l_{3} \\sin{\\left(q_{3} \\right)} + l_{3}^{2}}\\\\\\frac{A_{2} l_{3} \\cos{\\left(q_{3} \\right)} + A_{3} \\left(l_{2} + l_{3} \\sin{\\left(q_{3} \\right)}\\right)}{l_{2}^{2} + 2 l_{2} l_{3} \\sin{\\left(q_{3} \\right)} + l_{3}^{2}}\\end{matrix}\\right]$"
      ],
      "text/plain": [
       "Matrix([\n",
       "[(-A2*(l2 + l3*sin(q3)) + A3*l3*cos(q3))/(l2**2 + 2*l2*l3*sin(q3) + l3**2)],\n",
       "[ (A2*l3*cos(q3) + A3*(l2 + l3*sin(q3)))/(l2**2 + 2*l2*l3*sin(q3) + l3**2)]])"
      ]
     },
     "execution_count": 94,
     "metadata": {},
     "output_type": "execute_result"
    }
   ],
   "source": [
    "Ans = invL * A\n",
    "Ans.simplify()\n",
    "Ans"
   ]
  }
 ],
 "metadata": {
  "kernelspec": {
   "display_name": "Python 3.10.6 64-bit",
   "language": "python",
   "name": "python3"
  },
  "language_info": {
   "codemirror_mode": {
    "name": "ipython",
    "version": 3
   },
   "file_extension": ".py",
   "mimetype": "text/x-python",
   "name": "python",
   "nbconvert_exporter": "python",
   "pygments_lexer": "ipython3",
   "version": "3.10.6"
  },
  "orig_nbformat": 4,
  "vscode": {
   "interpreter": {
    "hash": "26de051ba29f2982a8de78e945f0abaf191376122a1563185a90213a26c5da77"
   }
  }
 },
 "nbformat": 4,
 "nbformat_minor": 2
}
