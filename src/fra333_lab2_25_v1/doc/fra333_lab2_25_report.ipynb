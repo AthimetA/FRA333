{
 "cells": [
  {
   "cell_type": "markdown",
   "metadata": {},
   "source": [
    "<font color='orange' size=8><B>**Lab Report 2 : Robot Modelling & Kinematics**</B></font>\n",
    "\n",
    "<font size=5><B>Objective :</B></font>\n",
    "\n",
    "การทดลองนี้ออกแบบมาเพื่อการเรียนรู้และประยุกต์ใช้ความรู้ในด้าน robot modelling และ kinematics สำหรับการประยุกต์เข้ากับ ROS2\n",
    "\n",
    "------------------------------------------------------------------------------------------------------------------------------"
   ]
  },
  {
   "cell_type": "markdown",
   "metadata": {},
   "source": [
    "<font size=5><B>Summary on Position Kinematics:</B></font>\n",
    "\n",
    "$$\n",
    "\\renewcommand{\\pvec}[4]{\\mathbf{#1}_{\\mathrm{#2},\\mathrm{#3}}^{\\mathrm{#4}}}\n",
    "$$\n",
    "\n",
    "$$\n",
    "\\def\\rvec#1#2#3{\\mathbf{#1}_{\\mathrm{#2}}^{\\mathrm{#3}}}\n",
    "\\def\\rotm#1#2#3{\\mathbf{#1}_{\\mathrm{#2}}^{\\mathrm{#3}}}\n",
    "\\def\\uvec#1#2#3{\\hat{\\mathbf{#1}}_{\\mathrm{#2}}^{\\mathrm{#3}}}\n",
    "$$\n",
    "\n",
    "\n",
    "\n",
    "ในจลนศาสตร์ตำแหน่ง **TASKSPACE** คือตำแหน่งทั้งหมดที่เป็นไปได้ของตำแหน่งปลายมือที่อ้างอิงกับเฟรมโลก (global coordinate frame) ในระบบพิกัดฉาก และ **CONFIGURATION SPACE** คือตำแหน่งของข้อต่อ (joint configuration) ทั้งหมดที่เป็นไปได้ของหุ่นยนต์ ดังนั้นถ้าหากนักศึกษาทราบค่า joint configuration ของหุ่นยนต์ในแต่ละข้อต่อจะสามารถแปลงให้เป็นตำแหน่งปลายมือของหุ่นยนต์ด้วยสมการ **FORWARD KINEMATICS** ดังสมการต่อไปนี้\n",
    "\n",
    "$$\n",
    "\\pvec{p}{G}{e}{G} = \\mathbf{fk}(\\mathbf{q})\n",
    "$$\n",
    "\n",
    "   เมื่อ $\\mathbf{q}$ คือตำแหน่งข้อต่อของหุ่นยนต์และ $\\pvec{p}{G}{e}{G}$ คือตำแหน่งปลายมือของหุ่นยนต์\n",
    "\n",
    "\n",
    "หรืออีกอย่างหนึ่ง เมื่อเราทราบตำแหน่งข้อต่อของหุ่นยนต์จะสามารถใช้ forward kinematics ในการแก้ไขปัญหาเพื่อหาค่าตำแหน่งปลายมือของหุ่นยนต์\n",
    "\n",
    "ในทางตรงกันข้าม การแปลงตำแหน่งปลายมือของหุ่นยนต์ให้เป็นตำแหน่งข้อต่อของหุ่นยนต์สามารถทำได้โดยการใช้สมการ **INVERSE KINEMATICS** โดยใช้สมการดังต่อไปนี้\n",
    "\n",
    "$$\n",
    "\\mathbf{q} = \\mathbf{ik}(\\pvec{p}{G}{e}{G})\n",
    "$$\n",
    "\n",
    "<center><img src=\"pic/hw2-1.png\" width=\"400\"/></center>\n",
    "\n",
    "แม้ว่าการแปลงจากตำแหน่งข้อต่อไปยังตำแหน่งปลายมือของหุ่นยนต์จะมีคำตอบที่เป็นไปได้อยู่คำตอบเดียว แต่ในการแปลงตำแหน่งปลายมือไปยังตำแหน่งข้อต่อของหุ่นยนต์นั้นจะมีหลายคำตอบด้วยกัน ดังนั้นจะมีตัวแปรดำอ่มขึ้นมาตัวหนึ่งสำหรับอธิบายท่าทางของหุ่นยนต์ที่มีหลายคำตอบ \"**ARM CONFIGURATION**\" ดังนี้ $\\mathbf{\\gamma}\\in{\\{-1,1\\}}^m$ ใช้สำหรับการอธิบายท่าทางของคำตอบที่ได้จากการใช้สมการ inverse kinematics\n",
    "\n",
    "\n",
    "$$\n",
    "\\mathbf{q} = \\mathbf{ik}(\\pvec{p}{G}{e}{G},\\mathbf{\\gamma})\n",
    "$$"
   ]
  },
  {
   "cell_type": "markdown",
   "metadata": {},
   "source": [
    "<font size=5><B>Summary on Robot Visualization Pipeline in ROS2:</B></font>\n",
    "\n",
    "ใน ROS2 นั้นมีโปรแกรมตัวหนึ่งที่ชื่อว่า *rviz2* ที่เป็นเครื่องมือสำหรับการแสดงผล *VISUALIZE* ข้อมูลที่ส่งผ่านทาง topic ใน ROS2 network โดยการระบุชื่อ topic และประเภทของข้อมูล หนึ่งในประเภท topic ที่สามารถแสดงผลรูปร่างลักษณะของหุ่นยนต์คือ \"robot_description\" ซึ่งถือว่าเป็น topic ที่เป็นจุดเด่นของการใช้งาน *rviz2* ถึงแม้ว่า topic ของ \"robot_description\" จะเป็นประเภท std_msgs/String และต้องอยู่ในรูปแบบของ XML เท่านั้น มิฉะนั้น rviz2 จะไม่สามารถแสดงผลได้ ในทางทฤษฎีเราสามารถเขียนตัวแปร std_msgs/String ให้อยู่ในรูปแบบของ XML และส่งค่าโดยการ publish ไปยัง *rviz2* ได้โดยตรง แต่ ROS2 นั้นมีวิธีการทำ robot_description ที่ดีกว่านี้\n",
    "\n",
    "ในการแสดงผลหุ่นนยนต์จะต้องอาศัย topic อื่นประกอบด้วยคือ \"Transformation Tree (TF_Tree)\" ซึ่งถูกนำมาใช้เป็นแกนหลักของหุ่นยนต์เพื่อใช้หา forward kinematics สำหรับหาตำแหน่งเฟรมของหุ่นยนต์ในแต่ละเฟรมในเทอมของตำแหน่ง ตำแหน่งเชิงมุมและเวลา timestamp ที่ถูกส่งออกไปในแต่ละครั้ง เพื่อให้เกิดประสิทธิภาพสูงสุด ROS2 ได้พัฒนาการส่งข้อมูลของ TF_Tree ออกเป็น 2 ประเภทด้วยกันคือ */tf_static* และ */tf* โดยที่ transformation(tf) ที่ไม่เปลี่ยนแปลงตามเวลาจะส่งออกผ่าน topic */tf_static* ถ้า tf ที่เปลี่ยนแปลงระหว่างเฟรมตามเวลาจะถูกส่งออกผ่าน topic */tf* *rviz2* จะใช้ topics ทั้งสองรวมกันเพื่อสร้าง TF_TREE ที่สมบูรณ์ ในบางครั้งผู้ใช้งานสามารถพัฒนาโหนดเพื่อส่ง (broadcast) tf ไปยัง TF_TREE แบบ manual ในทางเทคนิคเราสามารถเขียนโปรแกรมให้ส่งค่า TF_TREE สำหรับแสดงผลของหุ่นยนต์ โดยที่ ROS2 มีเครื่องมือที่สะดวกสำหรับการ broadcast TF_TREE แบบอัตโนมัติตามการเขียนความสัมพันธ์จาก \"robot_description\"\n",
    "\n",
    "ในการเขียนไฟล์ XML สำหรับการอธิบายลักษณะของหุ่นยนต์และการส่ง tf แบบ manual นั้นเป็นไปได้ยาก แต่โชคยังดีที่ใน ROS2 นั้นมี node หนึ่งชื่อว่า *robot_state_publisher* ที่สามารถรวมค่าของข้อต่อหุ่นยนต์ \"/joint_states\" และไฟล์ URDF จากนั้นส่งค่าของ TF_TREE และ \"robot_description\" ไปยัง *rviz2*\n",
    "\n",
    "\n",
    "<center><img src=\"pic/hw2-2.png\" width=\"600\"/></center>\n",
    "\n",
    "------------------------------------------------------------------------------------------------------------------------------"
   ]
  },
  {
   "cell_type": "markdown",
   "metadata": {},
   "source": [
    "<font color='orange' size=6><B>ภาพรวมของหุ่นยนต์(Cocoa)ที่ได้ออกแบบมา</B></font>\n",
    "\n",
    "<center><img src=\"img/DH.jpg\"/></center>\n",
    "\n",
    "------------------------------------------------------------------------------------------------------------------------------"
   ]
  },
  {
   "cell_type": "markdown",
   "metadata": {},
   "source": [
    "<font color='orange' size=6><B>ตาราง DH PARAMETERS ของ Cocoa ณ Home configuration</B></font>\n",
    "\n",
    "<center><img src=\"img/DH.jpg\"/></center>\n",
    "\n",
    "------------------------------------------------------------------------------------------------------------------------------"
   ]
  },
  {
   "cell_type": "markdown",
   "metadata": {},
   "source": [
    "<font color='orange' size=6><B>การคำนวณ Forward Kinematic ของ Cocoa</B></font>"
   ]
  },
  {
   "cell_type": "code",
   "execution_count": 1,
   "metadata": {},
   "outputs": [],
   "source": [
    "import sympy as sp\n",
    "\n",
    "x = sp.Symbol(\"x\", positive = True)\n",
    "y = sp.Symbol(\"y\", positive = True)\n",
    "z = sp.Symbol(\"z\", positive = True)\n",
    "l1 = sp.Symbol(\"l1\", positive = True)\n",
    "l2 = sp.Symbol(\"l2\", positive = True)\n",
    "l3 = sp.Symbol(\"l3\", positive = True)\n",
    "l4 = sp.Symbol(\"l4\", positive = True)\n",
    "q1 = sp.Symbol(\"q1\", positive = True)\n",
    "q2 = sp.Symbol(\"q2\", positive = True)\n",
    "q3 = sp.Symbol(\"q3\", positive = True)\n",
    "q4 = sp.Symbol(\"q4\", positive = True)\n",
    "\n",
    "phi = sp.Symbol(\"phi\", positive = True)\n",
    "pie = sp.Symbol(\"pi\", positive = True)"
   ]
  },
  {
   "cell_type": "code",
   "execution_count": 2,
   "metadata": {},
   "outputs": [],
   "source": [
    "def translateX(x):\n",
    "    return sp.Matrix([[1, 0, 0, x], [0, 1, 0, 0], [0, 0, 1, 0], [0, 0, 0, 1]])\n",
    "\n",
    "def translateZ(z):\n",
    "    return sp.Matrix([[1, 0, 0, 0], [0, 1, 0, 0], [0, 0, 1, z], [0, 0, 0, 1]])\n",
    "\n",
    "def rotateX(theta):\n",
    "    return sp.Matrix([[1, 0, 0, 0], [0, sp.cos(theta), -sp.sin(theta), 0], [0, sp.sin(theta), sp.cos(theta), 0], [0, 0, 0, 1]])\n",
    "\n",
    "def rotateZ(theta):\n",
    "    return sp.Matrix([[sp.cos(theta), -sp.sin(theta), 0, 0], [sp.sin(theta), sp.cos(theta), 0, 0], [0, 0, 1, 0], [0, 0, 0, 1]])\n",
    "\n",
    "def rotateY(theta):\n",
    "    return sp.Matrix([[sp.cos(theta), 0, sp.sin(theta), 0], [0, 1, 0, 0], [-sp.sin(theta), 0, sp.cos(theta), 0], [0, 0, 0, 1]])"
   ]
  },
  {
   "cell_type": "code",
   "execution_count": 3,
   "metadata": {},
   "outputs": [
    {
     "data": {
      "text/latex": [
       "$\\displaystyle \\left[\\begin{matrix}0 & 0 & l_{1} & 0 & 0\\\\0 & \\frac{\\pi}{2} & 0 & \\frac{\\pi}{2} & 0\\\\l_{2} & 0 & 0 & - \\frac{\\pi}{2} & 0\\\\l_{3} & 0 & 0 & 0 & 0\\end{matrix}\\right]$"
      ],
      "text/plain": [
       "Matrix([\n",
       "[ 0,    0, l1,     0, 0],\n",
       "[ 0, pi/2,  0,  pi/2, 0],\n",
       "[l2,    0,  0, -pi/2, 0],\n",
       "[l3,    0,  0,     0, 0]])"
      ]
     },
     "execution_count": 3,
     "metadata": {},
     "output_type": "execute_result"
    }
   ],
   "source": [
    "DH = sp.Matrix([[0, 0, l1, 0, 0],\n",
    "                [0, sp.pi/2, 0, sp.pi/2, 0],\n",
    "                [l2, 0, 0, -sp.pi/2, 0],\n",
    "                [l3, 0, 0, 0,0]])\n",
    "DH"
   ]
  },
  {
   "cell_type": "code",
   "execution_count": 4,
   "metadata": {},
   "outputs": [
    {
     "data": {
      "text/latex": [
       "$\\displaystyle \\left[\\begin{matrix}\\cos{\\left(q_{1} \\right)} \\cos{\\left(q_{2} + q_{3} + q_{4} \\right)} & - \\sin{\\left(q_{2} + q_{3} + q_{4} \\right)} \\cos{\\left(q_{1} \\right)} & \\sin{\\left(q_{1} \\right)} & \\left(- l_{2} \\sin{\\left(q_{2} \\right)} + l_{3} \\cos{\\left(q_{2} + q_{3} \\right)}\\right) \\cos{\\left(q_{1} \\right)}\\\\\\sin{\\left(q_{1} \\right)} \\cos{\\left(q_{2} + q_{3} + q_{4} \\right)} & - \\sin{\\left(q_{1} \\right)} \\sin{\\left(q_{2} + q_{3} + q_{4} \\right)} & - \\cos{\\left(q_{1} \\right)} & \\left(- l_{2} \\sin{\\left(q_{2} \\right)} + l_{3} \\cos{\\left(q_{2} + q_{3} \\right)}\\right) \\sin{\\left(q_{1} \\right)}\\\\\\sin{\\left(q_{2} + q_{3} + q_{4} \\right)} & \\cos{\\left(q_{2} + q_{3} + q_{4} \\right)} & 0 & l_{1} + l_{2} \\cos{\\left(q_{2} \\right)} + l_{3} \\sin{\\left(q_{2} + q_{3} \\right)}\\\\0 & 0 & 0 & 1\\end{matrix}\\right]$"
      ],
      "text/plain": [
       "Matrix([\n",
       "[cos(q1)*cos(q2 + q3 + q4), -sin(q2 + q3 + q4)*cos(q1),  sin(q1), (-l2*sin(q2) + l3*cos(q2 + q3))*cos(q1)],\n",
       "[sin(q1)*cos(q2 + q3 + q4), -sin(q1)*sin(q2 + q3 + q4), -cos(q1), (-l2*sin(q2) + l3*cos(q2 + q3))*sin(q1)],\n",
       "[        sin(q2 + q3 + q4),          cos(q2 + q3 + q4),        0,       l1 + l2*cos(q2) + l3*sin(q2 + q3)],\n",
       "[                        0,                          0,        0,                                       1]])"
      ]
     },
     "execution_count": 4,
     "metadata": {},
     "output_type": "execute_result"
    }
   ],
   "source": [
    "H  = sp.Matrix([[1, 0, 0, 0], [0, 1, 0, 0], [0, 0, 1, 0], [0, 0, 0, 1]])\n",
    "q = [q1,q2,q3,q4]\n",
    "for i in range(DH.shape[0]):\n",
    "    if DH[i, 4] == 0:# Revolute joint\n",
    "        Hj = rotateZ(q[i])\n",
    "    elif DH[i, 4] == 1: # Prismatic joint\n",
    "        Hj = translateZ(q[i])\n",
    "    else: # Fixed joint\n",
    "        Hj = sp.Matrix([[1, 0, 0, 0], [0, 1, 0, 0], [0, 0, 1, 0], [0, 0, 0, 1]])\n",
    "    H = H * translateX(DH[i, 0]) * rotateX(DH[i, 1]) * translateZ(DH[i, 2]) * rotateZ(DH[i, 3]) * Hj\n",
    "H = sp.trigsimp(H)\n",
    "H\n"
   ]
  },
  {
   "cell_type": "code",
   "execution_count": 5,
   "metadata": {},
   "outputs": [],
   "source": [
    "H4e = sp.Matrix([[1, 0, 0, l4],\n",
    "                 [0, 0, 1, 0],\n",
    "                 [0, -1, 0, 0],\n",
    "                 [0, 0, 0, 1]])\n",
    "He = H * H4e\n",
    "He = sp.trigsimp(He)"
   ]
  },
  {
   "cell_type": "code",
   "execution_count": 6,
   "metadata": {},
   "outputs": [
    {
     "data": {
      "text/latex": [
       "$\\displaystyle \\left[\\begin{matrix}\\left(- l_{2} \\sin{\\left(q_{2} \\right)} + l_{3} \\cos{\\left(q_{2} + q_{3} \\right)} + l_{4} \\cos{\\left(q_{2} + q_{3} + q_{4} \\right)}\\right) \\cos{\\left(q_{1} \\right)}\\\\\\left(- l_{2} \\sin{\\left(q_{2} \\right)} + l_{3} \\cos{\\left(q_{2} + q_{3} \\right)} + l_{4} \\cos{\\left(q_{2} + q_{3} + q_{4} \\right)}\\right) \\sin{\\left(q_{1} \\right)}\\\\l_{1} + l_{2} \\cos{\\left(q_{2} \\right)} + l_{3} \\sin{\\left(q_{2} + q_{3} \\right)} + l_{4} \\sin{\\left(q_{2} + q_{3} + q_{4} \\right)}\\end{matrix}\\right]$"
      ],
      "text/plain": [
       "Matrix([\n",
       "[(-l2*sin(q2) + l3*cos(q2 + q3) + l4*cos(q2 + q3 + q4))*cos(q1)],\n",
       "[(-l2*sin(q2) + l3*cos(q2 + q3) + l4*cos(q2 + q3 + q4))*sin(q1)],\n",
       "[      l1 + l2*cos(q2) + l3*sin(q2 + q3) + l4*sin(q2 + q3 + q4)]])"
      ]
     },
     "execution_count": 6,
     "metadata": {},
     "output_type": "execute_result"
    }
   ],
   "source": [
    "P = sp.trigsimp(He.col(3).row([0,1,2]))\n",
    "P"
   ]
  }
 ],
 "metadata": {
  "kernelspec": {
   "display_name": "Python 3.10.6 64-bit",
   "language": "python",
   "name": "python3"
  },
  "language_info": {
   "codemirror_mode": {
    "name": "ipython",
    "version": 3
   },
   "file_extension": ".py",
   "mimetype": "text/x-python",
   "name": "python",
   "nbconvert_exporter": "python",
   "pygments_lexer": "ipython3",
   "version": "3.10.6"
  },
  "orig_nbformat": 4,
  "vscode": {
   "interpreter": {
    "hash": "26de051ba29f2982a8de78e945f0abaf191376122a1563185a90213a26c5da77"
   }
  }
 },
 "nbformat": 4,
 "nbformat_minor": 2
}
